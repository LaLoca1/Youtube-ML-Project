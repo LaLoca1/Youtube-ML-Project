{
 "cells": [
  {
   "cell_type": "markdown",
   "metadata": {},
   "source": [
    "# Trending UK Youtube Video Analysis (Changes according to recent coding review)"
   ]
  },
  {
   "cell_type": "markdown",
   "metadata": {},
   "source": [
    "We are going to find out the group the common factors of a youtube video and predict the chances of it becoming trending (use ml here)"
   ]
  },
  {
   "cell_type": "markdown",
   "metadata": {},
   "source": [
    "## Info about dataset"
   ]
  },
  {
   "cell_type": "markdown",
   "metadata": {},
   "source": [
    "Initial Comment: \n",
    "- info about data:\n",
    "    - GBvideos.csv\n",
    "    - GB_category_id.json\n",
    "- I'd love some more info about your source data: where is your data from? what granularity is the data (one row per video? one row per video for each day it was trending?) how has the data been sampled?\n",
    "\n",
    "Youtube maintains a list of top trending videos on the platform (up to 200 listed trending videos per day) and the dataset was collected from this through the Youtube API. The dataset inlcudes several months of data on daily trending Youtube videos mainly between 2017/2018 (A few anomalies where videos come from 2014/2015) where each row just includes one video. "
   ]
  },
  {
   "cell_type": "markdown",
   "metadata": {},
   "source": [
    "## Import Packages"
   ]
  },
  {
   "cell_type": "markdown",
   "metadata": {},
   "source": [
    "Here we import some packages that are going to help us analyze data. "
   ]
  },
  {
   "cell_type": "code",
   "execution_count": 1,
   "metadata": {},
   "outputs": [],
   "source": [
    "import pandas as pd\n",
    "import numpy as np  \n",
    "import matplotlib.pyplot as plt\n",
    "import seaborn as sns \n",
    "import datetime \n",
    "import json "
   ]
  },
  {
   "cell_type": "markdown",
   "metadata": {},
   "source": [
    "### Reading the dataset"
   ]
  },
  {
   "cell_type": "code",
   "execution_count": 2,
   "metadata": {},
   "outputs": [],
   "source": [
    "df = pd.read_csv(\"/Users/Alex/Youtube Dataset/GBvideos.csv\")"
   ]
  },
  {
   "cell_type": "code",
   "execution_count": 3,
   "metadata": {},
   "outputs": [
    {
     "data": {
      "text/html": [
       "<div>\n",
       "<style scoped>\n",
       "    .dataframe tbody tr th:only-of-type {\n",
       "        vertical-align: middle;\n",
       "    }\n",
       "\n",
       "    .dataframe tbody tr th {\n",
       "        vertical-align: top;\n",
       "    }\n",
       "\n",
       "    .dataframe thead th {\n",
       "        text-align: right;\n",
       "    }\n",
       "</style>\n",
       "<table border=\"1\" class=\"dataframe\">\n",
       "  <thead>\n",
       "    <tr style=\"text-align: right;\">\n",
       "      <th></th>\n",
       "      <th>video_id</th>\n",
       "      <th>trending_date</th>\n",
       "      <th>title</th>\n",
       "      <th>channel_title</th>\n",
       "      <th>category_id</th>\n",
       "      <th>publish_time</th>\n",
       "      <th>tags</th>\n",
       "      <th>views</th>\n",
       "      <th>likes</th>\n",
       "      <th>dislikes</th>\n",
       "      <th>comment_count</th>\n",
       "      <th>thumbnail_link</th>\n",
       "      <th>comments_disabled</th>\n",
       "      <th>ratings_disabled</th>\n",
       "      <th>video_error_or_removed</th>\n",
       "      <th>description</th>\n",
       "    </tr>\n",
       "  </thead>\n",
       "  <tbody>\n",
       "    <tr>\n",
       "      <th>0</th>\n",
       "      <td>Jw1Y-zhQURU</td>\n",
       "      <td>17.14.11</td>\n",
       "      <td>John Lewis Christmas Ad 2017 - #MozTheMonster</td>\n",
       "      <td>John Lewis</td>\n",
       "      <td>26</td>\n",
       "      <td>2017-11-10T07:38:29.000Z</td>\n",
       "      <td>christmas|\"john lewis christmas\"|\"john lewis\"|...</td>\n",
       "      <td>7224515</td>\n",
       "      <td>55681</td>\n",
       "      <td>10247</td>\n",
       "      <td>9479</td>\n",
       "      <td>https://i.ytimg.com/vi/Jw1Y-zhQURU/default.jpg</td>\n",
       "      <td>False</td>\n",
       "      <td>False</td>\n",
       "      <td>False</td>\n",
       "      <td>Click here to continue the story and make your...</td>\n",
       "    </tr>\n",
       "    <tr>\n",
       "      <th>1</th>\n",
       "      <td>3s1rvMFUweQ</td>\n",
       "      <td>17.14.11</td>\n",
       "      <td>Taylor Swift: …Ready for It? (Live) - SNL</td>\n",
       "      <td>Saturday Night Live</td>\n",
       "      <td>24</td>\n",
       "      <td>2017-11-12T06:24:44.000Z</td>\n",
       "      <td>SNL|\"Saturday Night Live\"|\"SNL Season 43\"|\"Epi...</td>\n",
       "      <td>1053632</td>\n",
       "      <td>25561</td>\n",
       "      <td>2294</td>\n",
       "      <td>2757</td>\n",
       "      <td>https://i.ytimg.com/vi/3s1rvMFUweQ/default.jpg</td>\n",
       "      <td>False</td>\n",
       "      <td>False</td>\n",
       "      <td>False</td>\n",
       "      <td>Musical guest Taylor Swift performs …Ready for...</td>\n",
       "    </tr>\n",
       "    <tr>\n",
       "      <th>2</th>\n",
       "      <td>n1WpP7iowLc</td>\n",
       "      <td>17.14.11</td>\n",
       "      <td>Eminem - Walk On Water (Audio) ft. Beyoncé</td>\n",
       "      <td>EminemVEVO</td>\n",
       "      <td>10</td>\n",
       "      <td>2017-11-10T17:00:03.000Z</td>\n",
       "      <td>Eminem|\"Walk\"|\"On\"|\"Water\"|\"Aftermath/Shady/In...</td>\n",
       "      <td>17158579</td>\n",
       "      <td>787420</td>\n",
       "      <td>43420</td>\n",
       "      <td>125882</td>\n",
       "      <td>https://i.ytimg.com/vi/n1WpP7iowLc/default.jpg</td>\n",
       "      <td>False</td>\n",
       "      <td>False</td>\n",
       "      <td>False</td>\n",
       "      <td>Eminem's new track Walk on Water ft. Beyoncé i...</td>\n",
       "    </tr>\n",
       "    <tr>\n",
       "      <th>3</th>\n",
       "      <td>PUTEiSjKwJU</td>\n",
       "      <td>17.14.11</td>\n",
       "      <td>Goals from Salford City vs Class of 92 and Fri...</td>\n",
       "      <td>Salford City Football Club</td>\n",
       "      <td>17</td>\n",
       "      <td>2017-11-13T02:30:38.000Z</td>\n",
       "      <td>Salford City FC|\"Salford City\"|\"Salford\"|\"Clas...</td>\n",
       "      <td>27833</td>\n",
       "      <td>193</td>\n",
       "      <td>12</td>\n",
       "      <td>37</td>\n",
       "      <td>https://i.ytimg.com/vi/PUTEiSjKwJU/default.jpg</td>\n",
       "      <td>False</td>\n",
       "      <td>False</td>\n",
       "      <td>False</td>\n",
       "      <td>Salford drew 4-4 against the Class of 92 and F...</td>\n",
       "    </tr>\n",
       "    <tr>\n",
       "      <th>4</th>\n",
       "      <td>rHwDegptbI4</td>\n",
       "      <td>17.14.11</td>\n",
       "      <td>Dashcam captures truck's near miss with child ...</td>\n",
       "      <td>Cute Girl Videos</td>\n",
       "      <td>25</td>\n",
       "      <td>2017-11-13T01:45:13.000Z</td>\n",
       "      <td>[none]</td>\n",
       "      <td>9815</td>\n",
       "      <td>30</td>\n",
       "      <td>2</td>\n",
       "      <td>30</td>\n",
       "      <td>https://i.ytimg.com/vi/rHwDegptbI4/default.jpg</td>\n",
       "      <td>False</td>\n",
       "      <td>False</td>\n",
       "      <td>False</td>\n",
       "      <td>Dashcam captures truck's near miss with child ...</td>\n",
       "    </tr>\n",
       "  </tbody>\n",
       "</table>\n",
       "</div>"
      ],
      "text/plain": [
       "      video_id trending_date  \\\n",
       "0  Jw1Y-zhQURU      17.14.11   \n",
       "1  3s1rvMFUweQ      17.14.11   \n",
       "2  n1WpP7iowLc      17.14.11   \n",
       "3  PUTEiSjKwJU      17.14.11   \n",
       "4  rHwDegptbI4      17.14.11   \n",
       "\n",
       "                                               title  \\\n",
       "0      John Lewis Christmas Ad 2017 - #MozTheMonster   \n",
       "1          Taylor Swift: …Ready for It? (Live) - SNL   \n",
       "2         Eminem - Walk On Water (Audio) ft. Beyoncé   \n",
       "3  Goals from Salford City vs Class of 92 and Fri...   \n",
       "4  Dashcam captures truck's near miss with child ...   \n",
       "\n",
       "                channel_title  category_id              publish_time  \\\n",
       "0                  John Lewis           26  2017-11-10T07:38:29.000Z   \n",
       "1         Saturday Night Live           24  2017-11-12T06:24:44.000Z   \n",
       "2                  EminemVEVO           10  2017-11-10T17:00:03.000Z   \n",
       "3  Salford City Football Club           17  2017-11-13T02:30:38.000Z   \n",
       "4            Cute Girl Videos           25  2017-11-13T01:45:13.000Z   \n",
       "\n",
       "                                                tags     views   likes  \\\n",
       "0  christmas|\"john lewis christmas\"|\"john lewis\"|...   7224515   55681   \n",
       "1  SNL|\"Saturday Night Live\"|\"SNL Season 43\"|\"Epi...   1053632   25561   \n",
       "2  Eminem|\"Walk\"|\"On\"|\"Water\"|\"Aftermath/Shady/In...  17158579  787420   \n",
       "3  Salford City FC|\"Salford City\"|\"Salford\"|\"Clas...     27833     193   \n",
       "4                                             [none]      9815      30   \n",
       "\n",
       "   dislikes  comment_count                                  thumbnail_link  \\\n",
       "0     10247           9479  https://i.ytimg.com/vi/Jw1Y-zhQURU/default.jpg   \n",
       "1      2294           2757  https://i.ytimg.com/vi/3s1rvMFUweQ/default.jpg   \n",
       "2     43420         125882  https://i.ytimg.com/vi/n1WpP7iowLc/default.jpg   \n",
       "3        12             37  https://i.ytimg.com/vi/PUTEiSjKwJU/default.jpg   \n",
       "4         2             30  https://i.ytimg.com/vi/rHwDegptbI4/default.jpg   \n",
       "\n",
       "   comments_disabled  ratings_disabled  video_error_or_removed  \\\n",
       "0              False             False                   False   \n",
       "1              False             False                   False   \n",
       "2              False             False                   False   \n",
       "3              False             False                   False   \n",
       "4              False             False                   False   \n",
       "\n",
       "                                         description  \n",
       "0  Click here to continue the story and make your...  \n",
       "1  Musical guest Taylor Swift performs …Ready for...  \n",
       "2  Eminem's new track Walk on Water ft. Beyoncé i...  \n",
       "3  Salford drew 4-4 against the Class of 92 and F...  \n",
       "4  Dashcam captures truck's near miss with child ...  "
      ]
     },
     "execution_count": 3,
     "metadata": {},
     "output_type": "execute_result"
    }
   ],
   "source": [
    "df.head()"
   ]
  },
  {
   "cell_type": "code",
   "execution_count": 4,
   "metadata": {},
   "outputs": [
    {
     "name": "stdout",
     "output_type": "stream",
     "text": [
      "<class 'pandas.core.frame.DataFrame'>\n",
      "RangeIndex: 38916 entries, 0 to 38915\n",
      "Data columns (total 16 columns):\n",
      "video_id                  38916 non-null object\n",
      "trending_date             38916 non-null object\n",
      "title                     38916 non-null object\n",
      "channel_title             38916 non-null object\n",
      "category_id               38916 non-null int64\n",
      "publish_time              38916 non-null object\n",
      "tags                      38916 non-null object\n",
      "views                     38916 non-null int64\n",
      "likes                     38916 non-null int64\n",
      "dislikes                  38916 non-null int64\n",
      "comment_count             38916 non-null int64\n",
      "thumbnail_link            38916 non-null object\n",
      "comments_disabled         38916 non-null bool\n",
      "ratings_disabled          38916 non-null bool\n",
      "video_error_or_removed    38916 non-null bool\n",
      "description               38304 non-null object\n",
      "dtypes: bool(3), int64(5), object(8)\n",
      "memory usage: 4.0+ MB\n"
     ]
    }
   ],
   "source": [
    "df.info()"
   ]
  },
  {
   "cell_type": "code",
   "execution_count": 5,
   "metadata": {},
   "outputs": [
    {
     "name": "stdout",
     "output_type": "stream",
     "text": [
      "['description']\n"
     ]
    }
   ],
   "source": [
    "cols_with_missing_values = [col for col in df.columns\n",
    "                    if df[col].isnull().any()]\n",
    "\n",
    "print(cols_with_missing_values)"
   ]
  },
  {
   "cell_type": "markdown",
   "metadata": {},
   "source": [
    "From here we can see that there 38,916 entries in this dataset. All the columns have no null values apart from the description column (This has some null values since ot only has 38304 non-null values instead of 38,916) "
   ]
  },
  {
   "cell_type": "code",
   "execution_count": 6,
   "metadata": {},
   "outputs": [],
   "source": [
    "# Convert publish time object to a dataframe \n",
    "df['publish_time'] = pd.to_datetime(df['publish_time'], format = '%Y-%m-%dT%H:%M:%S.%fZ')"
   ]
  },
  {
   "cell_type": "code",
   "execution_count": 7,
   "metadata": {},
   "outputs": [],
   "source": [
    "# Getting months video was published in\n",
    "df['publish_month'] = df[\"publish_time\"].dt.month "
   ]
  },
  {
   "cell_type": "code",
   "execution_count": 8,
   "metadata": {},
   "outputs": [],
   "source": [
    "# Convert trending date to datetime\n",
    "df['trending_date'] = pd.to_datetime(df['trending_date'],format = '%y.%d.%m')\n",
    "df['trending_month'] = df['trending_date'].dt.month"
   ]
  },
  {
   "cell_type": "markdown",
   "metadata": {},
   "source": [
    "## Analysing Category_id"
   ]
  },
  {
   "cell_type": "markdown",
   "metadata": {},
   "source": [
    "The category_id is a categorical nominal variable"
   ]
  },
  {
   "cell_type": "code",
   "execution_count": 9,
   "metadata": {},
   "outputs": [
    {
     "name": "stdout",
     "output_type": "stream",
     "text": [
      "There are 16 unique categories\n"
     ]
    }
   ],
   "source": [
    "print(\"There are\", df['category_id'].nunique(),\"unique categories\")"
   ]
  },
  {
   "cell_type": "code",
   "execution_count": 10,
   "metadata": {},
   "outputs": [
    {
     "data": {
      "text/plain": [
       "<matplotlib.axes._subplots.AxesSubplot at 0x1d6125f1ba8>"
      ]
     },
     "execution_count": 10,
     "metadata": {},
     "output_type": "execute_result"
    },
    {
     "data": {
      "image/png": "[encoded data removed]",
      "text/plain": [
       "<Figure size 432x288 with 1 Axes>"
      ]
     },
     "metadata": {},
     "output_type": "display_data"
    }
   ],
   "source": [
    "sns.countplot(x=df['category_id'])"
   ]
  },
  {
   "cell_type": "code",
   "execution_count": 11,
   "metadata": {},
   "outputs": [],
   "source": [
    "with open('/Users/Alex/Youtube Dataset/GB_category_id.json') as f:\n",
    "    categories = json.load(f)[\"items\"]\n",
    "\n",
    "# my initial code\n",
    "#cat_dict = {}\n",
    "#for cat in categories:\n",
    "#    cat_dict[int(cat['id'])] = cat[\"snippet\"][\"title\"]\n",
    "#df['category_name'] = df['category_id'].map(cat_dict)\n",
    "\n",
    "# updated code as dict comprehension, better code style\n",
    "cat_dict = {int(cat['id']): cat[\"snippet\"][\"title\"] for cat in categories}\n",
    "df['category_name'] = df['category_id'].map(cat_dict)"
   ]
  },
  {
   "cell_type": "code",
   "execution_count": 12,
   "metadata": {},
   "outputs": [
    {
     "data": {
      "image/png": "[encoded data removed]",
      "text/plain": [
       "<Figure size 1440x1296 with 1 Axes>"
      ]
     },
     "metadata": {},
     "output_type": "display_data"
    }
   ],
   "source": [
    "df['category_name'].value_counts().sort_values().plot(kind='barh', figsize=(20,18))\n",
    "_ = plt.title(\"Number of videos by category\", size=20)\n",
    "_ = plt.show()"
   ]
  },
  {
   "cell_type": "code",
   "execution_count": 13,
   "metadata": {},
   "outputs": [
    {
     "data": {
      "text/plain": [
       "Music                   13754\n",
       "Entertainment            9124\n",
       "People & Blogs           2926\n",
       "Film & Animation         2577\n",
       "Howto & Style            1928\n",
       "Sports                   1907\n",
       "Comedy                   1828\n",
       "Gaming                   1788\n",
       "News & Politics          1225\n",
       "Pets & Animals            534\n",
       "Science & Technology      518\n",
       "Education                 457\n",
       "Autos & Vehicles          144\n",
       "Travel & Events            96\n",
       "Shows                      20\n",
       "Name: category_name, dtype: int64"
      ]
     },
     "execution_count": 13,
     "metadata": {},
     "output_type": "execute_result"
    }
   ],
   "source": [
    "df.category_name.value_counts()"
   ]
  },
  {
   "cell_type": "markdown",
   "metadata": {},
   "source": [
    "Since Category_id is Categorical Nominal meaning the values can represent categories that are equally meaningful. We can prevent multicollinearity (This is where more than 2 explanatory variables are highly linearly related) for our linear regression model by using the 'drop_first' method. \n",
    "\n",
    "To encode categorical variables, a One-hot-encoder returns a vector for each unique value of the categorical column. So each vector contains only one '1' while other values in the vector are '0'. 'pd.get_dummies' returns a new dataframe that contains one-hot-encoded columns (In this case, not all columns are encoded since they would be non-categorical columns)"
   ]
  },
  {
   "cell_type": "code",
   "execution_count": 14,
   "metadata": {},
   "outputs": [
    {
     "data": {
      "text/html": [
       "<div>\n",
       "<style scoped>\n",
       "    .dataframe tbody tr th:only-of-type {\n",
       "        vertical-align: middle;\n",
       "    }\n",
       "\n",
       "    .dataframe tbody tr th {\n",
       "        vertical-align: top;\n",
       "    }\n",
       "\n",
       "    .dataframe thead th {\n",
       "        text-align: right;\n",
       "    }\n",
       "</style>\n",
       "<table border=\"1\" class=\"dataframe\">\n",
       "  <thead>\n",
       "    <tr style=\"text-align: right;\">\n",
       "      <th></th>\n",
       "      <th>2</th>\n",
       "      <th>10</th>\n",
       "      <th>15</th>\n",
       "      <th>17</th>\n",
       "      <th>19</th>\n",
       "      <th>20</th>\n",
       "      <th>22</th>\n",
       "      <th>23</th>\n",
       "      <th>24</th>\n",
       "      <th>25</th>\n",
       "      <th>26</th>\n",
       "      <th>27</th>\n",
       "      <th>28</th>\n",
       "      <th>29</th>\n",
       "      <th>43</th>\n",
       "    </tr>\n",
       "  </thead>\n",
       "  <tbody>\n",
       "    <tr>\n",
       "      <th>0</th>\n",
       "      <td>0</td>\n",
       "      <td>0</td>\n",
       "      <td>0</td>\n",
       "      <td>0</td>\n",
       "      <td>0</td>\n",
       "      <td>0</td>\n",
       "      <td>0</td>\n",
       "      <td>0</td>\n",
       "      <td>0</td>\n",
       "      <td>0</td>\n",
       "      <td>1</td>\n",
       "      <td>0</td>\n",
       "      <td>0</td>\n",
       "      <td>0</td>\n",
       "      <td>0</td>\n",
       "    </tr>\n",
       "    <tr>\n",
       "      <th>1</th>\n",
       "      <td>0</td>\n",
       "      <td>0</td>\n",
       "      <td>0</td>\n",
       "      <td>0</td>\n",
       "      <td>0</td>\n",
       "      <td>0</td>\n",
       "      <td>0</td>\n",
       "      <td>0</td>\n",
       "      <td>1</td>\n",
       "      <td>0</td>\n",
       "      <td>0</td>\n",
       "      <td>0</td>\n",
       "      <td>0</td>\n",
       "      <td>0</td>\n",
       "      <td>0</td>\n",
       "    </tr>\n",
       "    <tr>\n",
       "      <th>2</th>\n",
       "      <td>0</td>\n",
       "      <td>1</td>\n",
       "      <td>0</td>\n",
       "      <td>0</td>\n",
       "      <td>0</td>\n",
       "      <td>0</td>\n",
       "      <td>0</td>\n",
       "      <td>0</td>\n",
       "      <td>0</td>\n",
       "      <td>0</td>\n",
       "      <td>0</td>\n",
       "      <td>0</td>\n",
       "      <td>0</td>\n",
       "      <td>0</td>\n",
       "      <td>0</td>\n",
       "    </tr>\n",
       "    <tr>\n",
       "      <th>3</th>\n",
       "      <td>0</td>\n",
       "      <td>0</td>\n",
       "      <td>0</td>\n",
       "      <td>1</td>\n",
       "      <td>0</td>\n",
       "      <td>0</td>\n",
       "      <td>0</td>\n",
       "      <td>0</td>\n",
       "      <td>0</td>\n",
       "      <td>0</td>\n",
       "      <td>0</td>\n",
       "      <td>0</td>\n",
       "      <td>0</td>\n",
       "      <td>0</td>\n",
       "      <td>0</td>\n",
       "    </tr>\n",
       "    <tr>\n",
       "      <th>4</th>\n",
       "      <td>0</td>\n",
       "      <td>0</td>\n",
       "      <td>0</td>\n",
       "      <td>0</td>\n",
       "      <td>0</td>\n",
       "      <td>0</td>\n",
       "      <td>0</td>\n",
       "      <td>0</td>\n",
       "      <td>0</td>\n",
       "      <td>1</td>\n",
       "      <td>0</td>\n",
       "      <td>0</td>\n",
       "      <td>0</td>\n",
       "      <td>0</td>\n",
       "      <td>0</td>\n",
       "    </tr>\n",
       "  </tbody>\n",
       "</table>\n",
       "</div>"
      ],
      "text/plain": [
       "   2   10  15  17  19  20  22  23  24  25  26  27  28  29  43\n",
       "0   0   0   0   0   0   0   0   0   0   0   1   0   0   0   0\n",
       "1   0   0   0   0   0   0   0   0   1   0   0   0   0   0   0\n",
       "2   0   1   0   0   0   0   0   0   0   0   0   0   0   0   0\n",
       "3   0   0   0   1   0   0   0   0   0   0   0   0   0   0   0\n",
       "4   0   0   0   0   0   0   0   0   0   1   0   0   0   0   0"
      ]
     },
     "execution_count": 14,
     "metadata": {},
     "output_type": "execute_result"
    }
   ],
   "source": [
    "categories = pd.get_dummies(df['category_id'], drop_first=True)\n",
    "categories.head()"
   ]
  },
  {
   "cell_type": "markdown",
   "metadata": {},
   "source": [
    "### Data Cleaning"
   ]
  },
  {
   "cell_type": "markdown",
   "metadata": {},
   "source": [
    "As the description column has some null values. Here we view the rows whose description values are null (null values are denoted by NaN)"
   ]
  },
  {
   "cell_type": "code",
   "execution_count": 15,
   "metadata": {},
   "outputs": [
    {
     "data": {
      "text/html": [
       "<div>\n",
       "<style scoped>\n",
       "    .dataframe tbody tr th:only-of-type {\n",
       "        vertical-align: middle;\n",
       "    }\n",
       "\n",
       "    .dataframe tbody tr th {\n",
       "        vertical-align: top;\n",
       "    }\n",
       "\n",
       "    .dataframe thead th {\n",
       "        text-align: right;\n",
       "    }\n",
       "</style>\n",
       "<table border=\"1\" class=\"dataframe\">\n",
       "  <thead>\n",
       "    <tr style=\"text-align: right;\">\n",
       "      <th></th>\n",
       "      <th>video_id</th>\n",
       "      <th>trending_date</th>\n",
       "      <th>title</th>\n",
       "      <th>channel_title</th>\n",
       "      <th>category_id</th>\n",
       "      <th>publish_time</th>\n",
       "      <th>tags</th>\n",
       "      <th>views</th>\n",
       "      <th>likes</th>\n",
       "      <th>dislikes</th>\n",
       "      <th>comment_count</th>\n",
       "      <th>thumbnail_link</th>\n",
       "      <th>comments_disabled</th>\n",
       "      <th>ratings_disabled</th>\n",
       "      <th>video_error_or_removed</th>\n",
       "      <th>description</th>\n",
       "      <th>publish_month</th>\n",
       "      <th>trending_month</th>\n",
       "      <th>category_name</th>\n",
       "    </tr>\n",
       "  </thead>\n",
       "  <tbody>\n",
       "    <tr>\n",
       "      <th>91</th>\n",
       "      <td>_wM_jY_rass</td>\n",
       "      <td>2017-11-14</td>\n",
       "      <td>Bone on Labour HQ</td>\n",
       "      <td>Ross Kempsell</td>\n",
       "      <td>25</td>\n",
       "      <td>2017-11-06 16:12:58</td>\n",
       "      <td>[none]</td>\n",
       "      <td>159065</td>\n",
       "      <td>1160</td>\n",
       "      <td>1164</td>\n",
       "      <td>0</td>\n",
       "      <td>https://i.ytimg.com/vi/_wM_jY_rass/default.jpg</td>\n",
       "      <td>True</td>\n",
       "      <td>False</td>\n",
       "      <td>False</td>\n",
       "      <td>NaN</td>\n",
       "      <td>11</td>\n",
       "      <td>11</td>\n",
       "      <td>News &amp; Politics</td>\n",
       "    </tr>\n",
       "    <tr>\n",
       "      <th>118</th>\n",
       "      <td>8HON4AswPVk</td>\n",
       "      <td>2017-11-14</td>\n",
       "      <td>Arvo Pärt - Tabula Rasa</td>\n",
       "      <td>JSaxofone</td>\n",
       "      <td>10</td>\n",
       "      <td>2012-09-13 12:35:46</td>\n",
       "      <td>Arvo|\"Pärt\"|\"Tabula\"|\"Rasa\"|\"part\"|\"violin\"|\"c...</td>\n",
       "      <td>728177</td>\n",
       "      <td>4007</td>\n",
       "      <td>71</td>\n",
       "      <td>240</td>\n",
       "      <td>https://i.ytimg.com/vi/8HON4AswPVk/default.jpg</td>\n",
       "      <td>False</td>\n",
       "      <td>False</td>\n",
       "      <td>False</td>\n",
       "      <td>NaN</td>\n",
       "      <td>9</td>\n",
       "      <td>11</td>\n",
       "      <td>Music</td>\n",
       "    </tr>\n",
       "    <tr>\n",
       "      <th>187</th>\n",
       "      <td>j5AILysDDTI</td>\n",
       "      <td>2017-11-14</td>\n",
       "      <td>Brad Bufanda Demo Reel</td>\n",
       "      <td>EinsteinEnt</td>\n",
       "      <td>24</td>\n",
       "      <td>2010-09-02 20:48:37</td>\n",
       "      <td>Brad Bufanda (Film Actor)</td>\n",
       "      <td>154054</td>\n",
       "      <td>16</td>\n",
       "      <td>10</td>\n",
       "      <td>19</td>\n",
       "      <td>https://i.ytimg.com/vi/j5AILysDDTI/default.jpg</td>\n",
       "      <td>False</td>\n",
       "      <td>False</td>\n",
       "      <td>False</td>\n",
       "      <td>NaN</td>\n",
       "      <td>9</td>\n",
       "      <td>11</td>\n",
       "      <td>Entertainment</td>\n",
       "    </tr>\n",
       "    <tr>\n",
       "      <th>309</th>\n",
       "      <td>_wM_jY_rass</td>\n",
       "      <td>2017-11-15</td>\n",
       "      <td>Bone on Labour HQ</td>\n",
       "      <td>Ross Kempsell</td>\n",
       "      <td>25</td>\n",
       "      <td>2017-11-06 16:12:58</td>\n",
       "      <td>[none]</td>\n",
       "      <td>160381</td>\n",
       "      <td>1168</td>\n",
       "      <td>1170</td>\n",
       "      <td>0</td>\n",
       "      <td>https://i.ytimg.com/vi/_wM_jY_rass/default.jpg</td>\n",
       "      <td>True</td>\n",
       "      <td>False</td>\n",
       "      <td>False</td>\n",
       "      <td>NaN</td>\n",
       "      <td>11</td>\n",
       "      <td>11</td>\n",
       "      <td>News &amp; Politics</td>\n",
       "    </tr>\n",
       "    <tr>\n",
       "      <th>336</th>\n",
       "      <td>8HON4AswPVk</td>\n",
       "      <td>2017-11-15</td>\n",
       "      <td>Arvo Pärt - Tabula Rasa</td>\n",
       "      <td>JSaxofone</td>\n",
       "      <td>10</td>\n",
       "      <td>2012-09-13 12:35:46</td>\n",
       "      <td>Arvo|\"Pärt\"|\"Tabula\"|\"Rasa\"|\"part\"|\"violin\"|\"c...</td>\n",
       "      <td>729358</td>\n",
       "      <td>4016</td>\n",
       "      <td>71</td>\n",
       "      <td>240</td>\n",
       "      <td>https://i.ytimg.com/vi/8HON4AswPVk/default.jpg</td>\n",
       "      <td>False</td>\n",
       "      <td>False</td>\n",
       "      <td>False</td>\n",
       "      <td>NaN</td>\n",
       "      <td>9</td>\n",
       "      <td>11</td>\n",
       "      <td>Music</td>\n",
       "    </tr>\n",
       "  </tbody>\n",
       "</table>\n",
       "</div>"
      ],
      "text/plain": [
       "        video_id trending_date                    title  channel_title  \\\n",
       "91   _wM_jY_rass    2017-11-14        Bone on Labour HQ  Ross Kempsell   \n",
       "118  8HON4AswPVk    2017-11-14  Arvo Pärt - Tabula Rasa      JSaxofone   \n",
       "187  j5AILysDDTI    2017-11-14   Brad Bufanda Demo Reel    EinsteinEnt   \n",
       "309  _wM_jY_rass    2017-11-15        Bone on Labour HQ  Ross Kempsell   \n",
       "336  8HON4AswPVk    2017-11-15  Arvo Pärt - Tabula Rasa      JSaxofone   \n",
       "\n",
       "     category_id        publish_time  \\\n",
       "91            25 2017-11-06 16:12:58   \n",
       "118           10 2012-09-13 12:35:46   \n",
       "187           24 2010-09-02 20:48:37   \n",
       "309           25 2017-11-06 16:12:58   \n",
       "336           10 2012-09-13 12:35:46   \n",
       "\n",
       "                                                  tags   views  likes  \\\n",
       "91                                              [none]  159065   1160   \n",
       "118  Arvo|\"Pärt\"|\"Tabula\"|\"Rasa\"|\"part\"|\"violin\"|\"c...  728177   4007   \n",
       "187                          Brad Bufanda (Film Actor)  154054     16   \n",
       "309                                             [none]  160381   1168   \n",
       "336  Arvo|\"Pärt\"|\"Tabula\"|\"Rasa\"|\"part\"|\"violin\"|\"c...  729358   4016   \n",
       "\n",
       "     dislikes  comment_count                                  thumbnail_link  \\\n",
       "91       1164              0  https://i.ytimg.com/vi/_wM_jY_rass/default.jpg   \n",
       "118        71            240  https://i.ytimg.com/vi/8HON4AswPVk/default.jpg   \n",
       "187        10             19  https://i.ytimg.com/vi/j5AILysDDTI/default.jpg   \n",
       "309      1170              0  https://i.ytimg.com/vi/_wM_jY_rass/default.jpg   \n",
       "336        71            240  https://i.ytimg.com/vi/8HON4AswPVk/default.jpg   \n",
       "\n",
       "     comments_disabled  ratings_disabled  video_error_or_removed description  \\\n",
       "91                True             False                   False         NaN   \n",
       "118              False             False                   False         NaN   \n",
       "187              False             False                   False         NaN   \n",
       "309               True             False                   False         NaN   \n",
       "336              False             False                   False         NaN   \n",
       "\n",
       "     publish_month  trending_month    category_name  \n",
       "91              11              11  News & Politics  \n",
       "118              9              11            Music  \n",
       "187              9              11    Entertainment  \n",
       "309             11              11  News & Politics  \n",
       "336              9              11            Music  "
      ]
     },
     "execution_count": 15,
     "metadata": {},
     "output_type": "execute_result"
    }
   ],
   "source": [
    "df[pd.isnull(df.description)].head()"
   ]
  },
  {
   "cell_type": "markdown",
   "metadata": {},
   "source": [
    "Now we need to some data cleaning and get rid off the null values, we can replace the null values with an empty string in the description column. "
   ]
  },
  {
   "cell_type": "code",
   "execution_count": 16,
   "metadata": {},
   "outputs": [],
   "source": [
    "df[\"description\"] = df[\"description\"].fillna(value=\"\")"
   ]
  },
  {
   "cell_type": "markdown",
   "metadata": {},
   "source": [
    "There are some videos that have an error/been removed. I prefer to filter our data on unremoved videos. "
   ]
  },
  {
   "cell_type": "code",
   "execution_count": 17,
   "metadata": {},
   "outputs": [
    {
     "data": {
      "text/plain": [
       "False    38847\n",
       "True        69\n",
       "Name: video_error_or_removed, dtype: int64"
      ]
     },
     "execution_count": 17,
     "metadata": {},
     "output_type": "execute_result"
    }
   ],
   "source": [
    "df['video_error_or_removed'].value_counts()"
   ]
  },
  {
   "cell_type": "code",
   "execution_count": 18,
   "metadata": {},
   "outputs": [],
   "source": [
    "df = df[df['video_error_or_removed']==False]"
   ]
  },
  {
   "cell_type": "markdown",
   "metadata": {},
   "source": [
    "There are some videos where its rating is disabled and this wouldn't be useful for our prediction as we are predicting the number of likes for a video. "
   ]
  },
  {
   "cell_type": "code",
   "execution_count": 19,
   "metadata": {},
   "outputs": [
    {
     "data": {
      "text/plain": [
       "False    38575\n",
       "True       272\n",
       "Name: ratings_disabled, dtype: int64"
      ]
     },
     "execution_count": 19,
     "metadata": {},
     "output_type": "execute_result"
    }
   ],
   "source": [
    "df['ratings_disabled'].value_counts()"
   ]
  },
  {
   "cell_type": "code",
   "execution_count": 20,
   "metadata": {},
   "outputs": [],
   "source": [
    "df = df[df['ratings_disabled']==False]"
   ]
  },
  {
   "cell_type": "markdown",
   "metadata": {},
   "source": [
    "## Predicting the amount of likes for a video"
   ]
  },
  {
   "cell_type": "markdown",
   "metadata": {},
   "source": [
    "Here we are going to create a Logistic Regression Model. First we will try and pick out the most useful parameters to predict how many likes a video will get. So the parameters I will be picking are the comments, views, dislikes and category_id"
   ]
  },
  {
   "cell_type": "code",
   "execution_count": 22,
   "metadata": {},
   "outputs": [
    {
     "data": {
      "text/plain": [
       "Index(['video_id', 'trending_date', 'title', 'channel_title', 'category_id',\n",
       "       'publish_time', 'tags', 'views', 'likes', 'dislikes', 'comment_count',\n",
       "       'thumbnail_link', 'comments_disabled', 'ratings_disabled',\n",
       "       'video_error_or_removed', 'description', 'publish_month',\n",
       "       'trending_month', 'category_name', 'no_tags'],\n",
       "      dtype='object')"
      ]
     },
     "execution_count": 22,
     "metadata": {},
     "output_type": "execute_result"
    }
   ],
   "source": [
    "df.columns"
   ]
  },
  {
   "cell_type": "code",
   "execution_count": 23,
   "metadata": {},
   "outputs": [
    {
     "data": {
      "text/html": [
       "<div>\n",
       "<style scoped>\n",
       "    .dataframe tbody tr th:only-of-type {\n",
       "        vertical-align: middle;\n",
       "    }\n",
       "\n",
       "    .dataframe tbody tr th {\n",
       "        vertical-align: top;\n",
       "    }\n",
       "\n",
       "    .dataframe thead th {\n",
       "        text-align: right;\n",
       "    }\n",
       "</style>\n",
       "<table border=\"1\" class=\"dataframe\">\n",
       "  <thead>\n",
       "    <tr style=\"text-align: right;\">\n",
       "      <th></th>\n",
       "      <th>video_id</th>\n",
       "      <th>trending_date</th>\n",
       "      <th>title</th>\n",
       "      <th>channel_title</th>\n",
       "      <th>category_id</th>\n",
       "      <th>publish_time</th>\n",
       "      <th>tags</th>\n",
       "      <th>views</th>\n",
       "      <th>likes</th>\n",
       "      <th>dislikes</th>\n",
       "      <th>comment_count</th>\n",
       "      <th>thumbnail_link</th>\n",
       "      <th>comments_disabled</th>\n",
       "      <th>ratings_disabled</th>\n",
       "      <th>video_error_or_removed</th>\n",
       "      <th>description</th>\n",
       "      <th>publish_month</th>\n",
       "      <th>trending_month</th>\n",
       "      <th>category_name</th>\n",
       "      <th>no_tags</th>\n",
       "    </tr>\n",
       "  </thead>\n",
       "  <tbody>\n",
       "    <tr>\n",
       "      <th>0</th>\n",
       "      <td>Jw1Y-zhQURU</td>\n",
       "      <td>2017-11-14</td>\n",
       "      <td>John Lewis Christmas Ad 2017 - #MozTheMonster</td>\n",
       "      <td>John Lewis</td>\n",
       "      <td>26</td>\n",
       "      <td>2017-11-10 07:38:29</td>\n",
       "      <td>christmas|\"john lewis christmas\"|\"john lewis\"|...</td>\n",
       "      <td>7224515</td>\n",
       "      <td>55681</td>\n",
       "      <td>10247</td>\n",
       "      <td>9479</td>\n",
       "      <td>https://i.ytimg.com/vi/Jw1Y-zhQURU/default.jpg</td>\n",
       "      <td>False</td>\n",
       "      <td>False</td>\n",
       "      <td>False</td>\n",
       "      <td>Click here to continue the story and make your...</td>\n",
       "      <td>11</td>\n",
       "      <td>11</td>\n",
       "      <td>Howto &amp; Style</td>\n",
       "      <td>9</td>\n",
       "    </tr>\n",
       "    <tr>\n",
       "      <th>1</th>\n",
       "      <td>3s1rvMFUweQ</td>\n",
       "      <td>2017-11-14</td>\n",
       "      <td>Taylor Swift: …Ready for It? (Live) - SNL</td>\n",
       "      <td>Saturday Night Live</td>\n",
       "      <td>24</td>\n",
       "      <td>2017-11-12 06:24:44</td>\n",
       "      <td>SNL|\"Saturday Night Live\"|\"SNL Season 43\"|\"Epi...</td>\n",
       "      <td>1053632</td>\n",
       "      <td>25561</td>\n",
       "      <td>2294</td>\n",
       "      <td>2757</td>\n",
       "      <td>https://i.ytimg.com/vi/3s1rvMFUweQ/default.jpg</td>\n",
       "      <td>False</td>\n",
       "      <td>False</td>\n",
       "      <td>False</td>\n",
       "      <td>Musical guest Taylor Swift performs …Ready for...</td>\n",
       "      <td>11</td>\n",
       "      <td>11</td>\n",
       "      <td>Entertainment</td>\n",
       "      <td>36</td>\n",
       "    </tr>\n",
       "    <tr>\n",
       "      <th>2</th>\n",
       "      <td>n1WpP7iowLc</td>\n",
       "      <td>2017-11-14</td>\n",
       "      <td>Eminem - Walk On Water (Audio) ft. Beyoncé</td>\n",
       "      <td>EminemVEVO</td>\n",
       "      <td>10</td>\n",
       "      <td>2017-11-10 17:00:03</td>\n",
       "      <td>Eminem|\"Walk\"|\"On\"|\"Water\"|\"Aftermath/Shady/In...</td>\n",
       "      <td>17158579</td>\n",
       "      <td>787420</td>\n",
       "      <td>43420</td>\n",
       "      <td>125882</td>\n",
       "      <td>https://i.ytimg.com/vi/n1WpP7iowLc/default.jpg</td>\n",
       "      <td>False</td>\n",
       "      <td>False</td>\n",
       "      <td>False</td>\n",
       "      <td>Eminem's new track Walk on Water ft. Beyoncé i...</td>\n",
       "      <td>11</td>\n",
       "      <td>11</td>\n",
       "      <td>Music</td>\n",
       "      <td>6</td>\n",
       "    </tr>\n",
       "    <tr>\n",
       "      <th>3</th>\n",
       "      <td>PUTEiSjKwJU</td>\n",
       "      <td>2017-11-14</td>\n",
       "      <td>Goals from Salford City vs Class of 92 and Fri...</td>\n",
       "      <td>Salford City Football Club</td>\n",
       "      <td>17</td>\n",
       "      <td>2017-11-13 02:30:38</td>\n",
       "      <td>Salford City FC|\"Salford City\"|\"Salford\"|\"Clas...</td>\n",
       "      <td>27833</td>\n",
       "      <td>193</td>\n",
       "      <td>12</td>\n",
       "      <td>37</td>\n",
       "      <td>https://i.ytimg.com/vi/PUTEiSjKwJU/default.jpg</td>\n",
       "      <td>False</td>\n",
       "      <td>False</td>\n",
       "      <td>False</td>\n",
       "      <td>Salford drew 4-4 against the Class of 92 and F...</td>\n",
       "      <td>11</td>\n",
       "      <td>11</td>\n",
       "      <td>Sports</td>\n",
       "      <td>9</td>\n",
       "    </tr>\n",
       "    <tr>\n",
       "      <th>4</th>\n",
       "      <td>rHwDegptbI4</td>\n",
       "      <td>2017-11-14</td>\n",
       "      <td>Dashcam captures truck's near miss with child ...</td>\n",
       "      <td>Cute Girl Videos</td>\n",
       "      <td>25</td>\n",
       "      <td>2017-11-13 01:45:13</td>\n",
       "      <td>[none]</td>\n",
       "      <td>9815</td>\n",
       "      <td>30</td>\n",
       "      <td>2</td>\n",
       "      <td>30</td>\n",
       "      <td>https://i.ytimg.com/vi/rHwDegptbI4/default.jpg</td>\n",
       "      <td>False</td>\n",
       "      <td>False</td>\n",
       "      <td>False</td>\n",
       "      <td>Dashcam captures truck's near miss with child ...</td>\n",
       "      <td>11</td>\n",
       "      <td>11</td>\n",
       "      <td>News &amp; Politics</td>\n",
       "      <td>1</td>\n",
       "    </tr>\n",
       "  </tbody>\n",
       "</table>\n",
       "</div>"
      ],
      "text/plain": [
       "      video_id trending_date  \\\n",
       "0  Jw1Y-zhQURU    2017-11-14   \n",
       "1  3s1rvMFUweQ    2017-11-14   \n",
       "2  n1WpP7iowLc    2017-11-14   \n",
       "3  PUTEiSjKwJU    2017-11-14   \n",
       "4  rHwDegptbI4    2017-11-14   \n",
       "\n",
       "                                               title  \\\n",
       "0      John Lewis Christmas Ad 2017 - #MozTheMonster   \n",
       "1          Taylor Swift: …Ready for It? (Live) - SNL   \n",
       "2         Eminem - Walk On Water (Audio) ft. Beyoncé   \n",
       "3  Goals from Salford City vs Class of 92 and Fri...   \n",
       "4  Dashcam captures truck's near miss with child ...   \n",
       "\n",
       "                channel_title  category_id        publish_time  \\\n",
       "0                  John Lewis           26 2017-11-10 07:38:29   \n",
       "1         Saturday Night Live           24 2017-11-12 06:24:44   \n",
       "2                  EminemVEVO           10 2017-11-10 17:00:03   \n",
       "3  Salford City Football Club           17 2017-11-13 02:30:38   \n",
       "4            Cute Girl Videos           25 2017-11-13 01:45:13   \n",
       "\n",
       "                                                tags     views   likes  \\\n",
       "0  christmas|\"john lewis christmas\"|\"john lewis\"|...   7224515   55681   \n",
       "1  SNL|\"Saturday Night Live\"|\"SNL Season 43\"|\"Epi...   1053632   25561   \n",
       "2  Eminem|\"Walk\"|\"On\"|\"Water\"|\"Aftermath/Shady/In...  17158579  787420   \n",
       "3  Salford City FC|\"Salford City\"|\"Salford\"|\"Clas...     27833     193   \n",
       "4                                             [none]      9815      30   \n",
       "\n",
       "   dislikes  comment_count                                  thumbnail_link  \\\n",
       "0     10247           9479  https://i.ytimg.com/vi/Jw1Y-zhQURU/default.jpg   \n",
       "1      2294           2757  https://i.ytimg.com/vi/3s1rvMFUweQ/default.jpg   \n",
       "2     43420         125882  https://i.ytimg.com/vi/n1WpP7iowLc/default.jpg   \n",
       "3        12             37  https://i.ytimg.com/vi/PUTEiSjKwJU/default.jpg   \n",
       "4         2             30  https://i.ytimg.com/vi/rHwDegptbI4/default.jpg   \n",
       "\n",
       "   comments_disabled  ratings_disabled  video_error_or_removed  \\\n",
       "0              False             False                   False   \n",
       "1              False             False                   False   \n",
       "2              False             False                   False   \n",
       "3              False             False                   False   \n",
       "4              False             False                   False   \n",
       "\n",
       "                                         description  publish_month  \\\n",
       "0  Click here to continue the story and make your...             11   \n",
       "1  Musical guest Taylor Swift performs …Ready for...             11   \n",
       "2  Eminem's new track Walk on Water ft. Beyoncé i...             11   \n",
       "3  Salford drew 4-4 against the Class of 92 and F...             11   \n",
       "4  Dashcam captures truck's near miss with child ...             11   \n",
       "\n",
       "   trending_month    category_name  no_tags  \n",
       "0              11    Howto & Style        9  \n",
       "1              11    Entertainment       36  \n",
       "2              11            Music        6  \n",
       "3              11           Sports        9  \n",
       "4              11  News & Politics        1  "
      ]
     },
     "execution_count": 23,
     "metadata": {},
     "output_type": "execute_result"
    }
   ],
   "source": [
    "df.head()"
   ]
  },
  {
   "cell_type": "code",
   "execution_count": 24,
   "metadata": {},
   "outputs": [
    {
     "data": {
      "text/html": [
       "<div>\n",
       "<style scoped>\n",
       "    .dataframe tbody tr th:only-of-type {\n",
       "        vertical-align: middle;\n",
       "    }\n",
       "\n",
       "    .dataframe tbody tr th {\n",
       "        vertical-align: top;\n",
       "    }\n",
       "\n",
       "    .dataframe thead th {\n",
       "        text-align: right;\n",
       "    }\n",
       "</style>\n",
       "<table border=\"1\" class=\"dataframe\">\n",
       "  <thead>\n",
       "    <tr style=\"text-align: right;\">\n",
       "      <th></th>\n",
       "      <th>category_id</th>\n",
       "      <th>views</th>\n",
       "      <th>likes</th>\n",
       "      <th>dislikes</th>\n",
       "      <th>comment_count</th>\n",
       "      <th>publish_month</th>\n",
       "      <th>trending_month</th>\n",
       "      <th>no_tags</th>\n",
       "    </tr>\n",
       "  </thead>\n",
       "  <tbody>\n",
       "    <tr>\n",
       "      <th>count</th>\n",
       "      <td>38575.000000</td>\n",
       "      <td>3.857500e+04</td>\n",
       "      <td>3.857500e+04</td>\n",
       "      <td>3.857500e+04</td>\n",
       "      <td>3.857500e+04</td>\n",
       "      <td>38575.000000</td>\n",
       "      <td>38575.000000</td>\n",
       "      <td>38575.000000</td>\n",
       "    </tr>\n",
       "    <tr>\n",
       "      <th>mean</th>\n",
       "      <td>16.866986</td>\n",
       "      <td>5.882495e+06</td>\n",
       "      <td>1.353424e+05</td>\n",
       "      <td>7.641449e+03</td>\n",
       "      <td>1.317013e+04</td>\n",
       "      <td>5.387375</td>\n",
       "      <td>5.242800</td>\n",
       "      <td>18.023979</td>\n",
       "    </tr>\n",
       "    <tr>\n",
       "      <th>std</th>\n",
       "      <td>7.716194</td>\n",
       "      <td>1.899995e+07</td>\n",
       "      <td>3.511111e+05</td>\n",
       "      <td>5.114406e+04</td>\n",
       "      <td>5.086397e+04</td>\n",
       "      <td>4.128724</td>\n",
       "      <td>3.921172</td>\n",
       "      <td>12.130985</td>\n",
       "    </tr>\n",
       "    <tr>\n",
       "      <th>min</th>\n",
       "      <td>1.000000</td>\n",
       "      <td>8.510000e+02</td>\n",
       "      <td>2.000000e+00</td>\n",
       "      <td>0.000000e+00</td>\n",
       "      <td>0.000000e+00</td>\n",
       "      <td>1.000000</td>\n",
       "      <td>1.000000</td>\n",
       "      <td>1.000000</td>\n",
       "    </tr>\n",
       "    <tr>\n",
       "      <th>25%</th>\n",
       "      <td>10.000000</td>\n",
       "      <td>2.509305e+05</td>\n",
       "      <td>6.088000e+03</td>\n",
       "      <td>2.080000e+02</td>\n",
       "      <td>6.950000e+02</td>\n",
       "      <td>2.000000</td>\n",
       "      <td>2.000000</td>\n",
       "      <td>8.000000</td>\n",
       "    </tr>\n",
       "    <tr>\n",
       "      <th>50%</th>\n",
       "      <td>20.000000</td>\n",
       "      <td>9.724450e+05</td>\n",
       "      <td>2.555200e+04</td>\n",
       "      <td>8.330000e+02</td>\n",
       "      <td>2.517000e+03</td>\n",
       "      <td>4.000000</td>\n",
       "      <td>4.000000</td>\n",
       "      <td>16.000000</td>\n",
       "    </tr>\n",
       "    <tr>\n",
       "      <th>75%</th>\n",
       "      <td>24.000000</td>\n",
       "      <td>3.701928e+06</td>\n",
       "      <td>1.151700e+05</td>\n",
       "      <td>3.398500e+03</td>\n",
       "      <td>9.325500e+03</td>\n",
       "      <td>11.000000</td>\n",
       "      <td>6.000000</td>\n",
       "      <td>27.000000</td>\n",
       "    </tr>\n",
       "    <tr>\n",
       "      <th>max</th>\n",
       "      <td>43.000000</td>\n",
       "      <td>4.245389e+08</td>\n",
       "      <td>5.613827e+06</td>\n",
       "      <td>1.944971e+06</td>\n",
       "      <td>1.626501e+06</td>\n",
       "      <td>12.000000</td>\n",
       "      <td>12.000000</td>\n",
       "      <td>78.000000</td>\n",
       "    </tr>\n",
       "  </tbody>\n",
       "</table>\n",
       "</div>"
      ],
      "text/plain": [
       "        category_id         views         likes      dislikes  comment_count  \\\n",
       "count  38575.000000  3.857500e+04  3.857500e+04  3.857500e+04   3.857500e+04   \n",
       "mean      16.866986  5.882495e+06  1.353424e+05  7.641449e+03   1.317013e+04   \n",
       "std        7.716194  1.899995e+07  3.511111e+05  5.114406e+04   5.086397e+04   \n",
       "min        1.000000  8.510000e+02  2.000000e+00  0.000000e+00   0.000000e+00   \n",
       "25%       10.000000  2.509305e+05  6.088000e+03  2.080000e+02   6.950000e+02   \n",
       "50%       20.000000  9.724450e+05  2.555200e+04  8.330000e+02   2.517000e+03   \n",
       "75%       24.000000  3.701928e+06  1.151700e+05  3.398500e+03   9.325500e+03   \n",
       "max       43.000000  4.245389e+08  5.613827e+06  1.944971e+06   1.626501e+06   \n",
       "\n",
       "       publish_month  trending_month       no_tags  \n",
       "count   38575.000000    38575.000000  38575.000000  \n",
       "mean        5.387375        5.242800     18.023979  \n",
       "std         4.128724        3.921172     12.130985  \n",
       "min         1.000000        1.000000      1.000000  \n",
       "25%         2.000000        2.000000      8.000000  \n",
       "50%         4.000000        4.000000     16.000000  \n",
       "75%        11.000000        6.000000     27.000000  \n",
       "max        12.000000       12.000000     78.000000  "
      ]
     },
     "execution_count": 24,
     "metadata": {},
     "output_type": "execute_result"
    }
   ],
   "source": [
    "df.describe()"
   ]
  },
  {
   "cell_type": "code",
   "execution_count": 25,
   "metadata": {},
   "outputs": [],
   "source": [
    "#x = df[[\"comment_count\",\"views\",\"dislikes\",\"no_tags\", 'category_id','publish_month', 'trending_month']]\n",
    "#x = df[[\"comment_count\",\"views\",\"dislikes\",\"category_id\",'publish_month', 'trending_month']]\n",
    "#x = df[[\"comment_count\",\"views\",'positive_or_negative',\"category_id\",'trending_month']]\n",
    "\n",
    "# ^^ I was attempting different features, but all got worse results. The combination of features below gave the best results so far\n",
    "x = df[[\"comment_count\",\"views\",\"dislikes\",'category_id','trending_month']]\n",
    "y = df[\"likes\"]\n",
    "y1 = df[[\"likes\"]]"
   ]
  },
  {
   "cell_type": "markdown",
   "metadata": {},
   "source": [
    "But just before we fit the model, I want to look at the distribution of the parameter. "
   ]
  },
  {
   "cell_type": "code",
   "execution_count": 26,
   "metadata": {},
   "outputs": [
    {
     "name": "stderr",
     "output_type": "stream",
     "text": [
      "C:\\Users\\Alex\\Anaconda3\\lib\\site-packages\\matplotlib\\axes\\_axes.py:6462: UserWarning: The 'normed' kwarg is deprecated, and has been replaced by the 'density' kwarg.\n",
      "  warnings.warn(\"The 'normed' kwarg is deprecated, and has been \"\n",
      "C:\\Users\\Alex\\Anaconda3\\lib\\site-packages\\matplotlib\\axes\\_axes.py:6462: UserWarning: The 'normed' kwarg is deprecated, and has been replaced by the 'density' kwarg.\n",
      "  warnings.warn(\"The 'normed' kwarg is deprecated, and has been \"\n",
      "C:\\Users\\Alex\\Anaconda3\\lib\\site-packages\\matplotlib\\axes\\_axes.py:6462: UserWarning: The 'normed' kwarg is deprecated, and has been replaced by the 'density' kwarg.\n",
      "  warnings.warn(\"The 'normed' kwarg is deprecated, and has been \"\n",
      "C:\\Users\\Alex\\Anaconda3\\lib\\site-packages\\matplotlib\\axes\\_axes.py:6462: UserWarning: The 'normed' kwarg is deprecated, and has been replaced by the 'density' kwarg.\n",
      "  warnings.warn(\"The 'normed' kwarg is deprecated, and has been \"\n"
     ]
    },
    {
     "data": {
      "image/png": "[encoded data removed]",
      "text/plain": [
       "<Figure size 1440x1080 with 4 Axes>"
      ]
     },
     "metadata": {},
     "output_type": "display_data"
    }
   ],
   "source": [
    "f, ax = plt.subplots(2,2, figsize=(20,15))\n",
    "\n",
    "g = sns.distplot(df['likes'],ax=ax[0][0])\n",
    "\n",
    "g1 = sns.distplot(df['dislikes'],ax=ax[0][1])\n",
    "\n",
    "g2 = sns.distplot(df['comment_count'],ax=ax[1][0])\n",
    "\n",
    "g3 = sns.distplot(df['views'],ax=ax[1][1])"
   ]
  },
  {
   "cell_type": "markdown",
   "metadata": {},
   "source": [
    "But looking at the data for each parameter, the data is very skewed and unbalanced which can lead to biases during the predictions. So we want to make this balanced."
   ]
  },
  {
   "cell_type": "markdown",
   "metadata": {},
   "source": [
    "### Prior Data Cleaning Before Transforming Graphs"
   ]
  },
  {
   "cell_type": "markdown",
   "metadata": {},
   "source": [
    "As the dislikes, comment counts and likes parameters contain infinite values or negative (we removed the NaN values earlier), we have to replace this before log transforming the values as otherwise, we would run into an error. So we just converted the values to 1. "
   ]
  },
  {
   "cell_type": "code",
   "execution_count": 27,
   "metadata": {},
   "outputs": [],
   "source": [
    "replaced = x.replace([np.inf, np.NaN, -1, 0], 1)\n",
    "replaced1 = y1.replace([np.inf, np.NaN, -1, 0], 1)"
   ]
  },
  {
   "cell_type": "code",
   "execution_count": 28,
   "metadata": {},
   "outputs": [
    {
     "name": "stderr",
     "output_type": "stream",
     "text": [
      "C:\\Users\\Alex\\Anaconda3\\lib\\site-packages\\matplotlib\\axes\\_axes.py:6462: UserWarning: The 'normed' kwarg is deprecated, and has been replaced by the 'density' kwarg.\n",
      "  warnings.warn(\"The 'normed' kwarg is deprecated, and has been \"\n",
      "C:\\Users\\Alex\\Anaconda3\\lib\\site-packages\\matplotlib\\axes\\_axes.py:6462: UserWarning: The 'normed' kwarg is deprecated, and has been replaced by the 'density' kwarg.\n",
      "  warnings.warn(\"The 'normed' kwarg is deprecated, and has been \"\n",
      "C:\\Users\\Alex\\Anaconda3\\lib\\site-packages\\matplotlib\\axes\\_axes.py:6462: UserWarning: The 'normed' kwarg is deprecated, and has been replaced by the 'density' kwarg.\n",
      "  warnings.warn(\"The 'normed' kwarg is deprecated, and has been \"\n",
      "C:\\Users\\Alex\\Anaconda3\\lib\\site-packages\\matplotlib\\axes\\_axes.py:6462: UserWarning: The 'normed' kwarg is deprecated, and has been replaced by the 'density' kwarg.\n",
      "  warnings.warn(\"The 'normed' kwarg is deprecated, and has been \"\n"
     ]
    },
    {
     "data": {
      "image/png": "[encoded data removed]",
      "text/plain": [
       "<Figure size 1440x1080 with 4 Axes>"
      ]
     },
     "metadata": {},
     "output_type": "display_data"
    }
   ],
   "source": [
    "f, ax = plt.subplots(2,2, figsize=(20,15))\n",
    "\n",
    "df[\"views_log\"] = np.log(df[\"views\"])\n",
    "g = sns.distplot(df['views_log'],ax=ax[0][0])\n",
    "\n",
    "g1 =sns.distplot(np.log(replaced.dislikes),ax=ax[0][1])\n",
    "\n",
    "g2 =sns.distplot(np.log(replaced.comment_count),ax=ax[1][0])\n",
    "\n",
    "g3 = sns.distplot(np.log(replaced1.likes), ax=ax[1][1])"
   ]
  },
  {
   "cell_type": "markdown",
   "metadata": {},
   "source": [
    "By log transforming each parameter, we were able to create a bell shaped curve meaning the data is more balanced now. "
   ]
  },
  {
   "cell_type": "code",
   "execution_count": 29,
   "metadata": {},
   "outputs": [
    {
     "name": "stderr",
     "output_type": "stream",
     "text": [
      "C:\\Users\\Alex\\Anaconda3\\lib\\site-packages\\ipykernel_launcher.py:3: RuntimeWarning: divide by zero encountered in log\n",
      "  This is separate from the ipykernel package so we can avoid doing imports until\n",
      "C:\\Users\\Alex\\Anaconda3\\lib\\site-packages\\ipykernel_launcher.py:4: RuntimeWarning: divide by zero encountered in log\n",
      "  after removing the cwd from sys.path.\n"
     ]
    }
   ],
   "source": [
    "df['views_log'] = np.log(df['views'])\n",
    "df['likes_log'] = np.log(df['likes'])\n",
    "df['dislikes_log'] = np.log(df['dislikes'])\n",
    "df['comment_count_log'] = np.log(df['comment_count'])"
   ]
  },
  {
   "cell_type": "markdown",
   "metadata": {},
   "source": [
    "### Creating a Linear Regression Model "
   ]
  },
  {
   "cell_type": "markdown",
   "metadata": {},
   "source": [
    "Before creating the model, we have to split the data we are testing first into 2 categories: a training set and a test set. I allocated 30% of the data into the test data and 70% to the training set. A good MAE baseline would be around 10,000-11,000"
   ]
  },
  {
   "cell_type": "code",
   "execution_count": 30,
   "metadata": {},
   "outputs": [],
   "source": [
    "from sklearn.model_selection import train_test_split\n",
    "X_train, X_test, y_train, y_test = train_test_split(x, y, test_size=0.3,random_state=0)"
   ]
  },
  {
   "cell_type": "markdown",
   "metadata": {},
   "source": [
    "Here we fit the Linear Regression model with the training data"
   ]
  },
  {
   "cell_type": "code",
   "execution_count": 31,
   "metadata": {},
   "outputs": [],
   "source": [
    "from sklearn.linear_model import LinearRegression\n",
    "linreg = LinearRegression()\n",
    "model_fit = linreg.fit(X_train, y_train)"
   ]
  },
  {
   "cell_type": "markdown",
   "metadata": {},
   "source": [
    "Here a one unit increase in the predictor variable (likes) is associated with the change of one coefficient per category (comment_count, views, dislikes and category_id)"
   ]
  },
  {
   "cell_type": "code",
   "execution_count": 32,
   "metadata": {},
   "outputs": [
    {
     "data": {
      "text/plain": [
       "Index(['comment_count', 'views', 'dislikes', 'category_id', 'trending_month'], dtype='object')"
      ]
     },
     "execution_count": 32,
     "metadata": {},
     "output_type": "execute_result"
    }
   ],
   "source": [
    "X_train.columns"
   ]
  },
  {
   "cell_type": "code",
   "execution_count": 33,
   "metadata": {},
   "outputs": [],
   "source": [
    "cdf = pd.DataFrame(linreg.coef_, index = X_train.columns,columns=['Coefficients'])"
   ]
  },
  {
   "cell_type": "code",
   "execution_count": 34,
   "metadata": {},
   "outputs": [
    {
     "data": {
      "text/html": [
       "<div>\n",
       "<style scoped>\n",
       "    .dataframe tbody tr th:only-of-type {\n",
       "        vertical-align: middle;\n",
       "    }\n",
       "\n",
       "    .dataframe tbody tr th {\n",
       "        vertical-align: top;\n",
       "    }\n",
       "\n",
       "    .dataframe thead th {\n",
       "        text-align: right;\n",
       "    }\n",
       "</style>\n",
       "<table border=\"1\" class=\"dataframe\">\n",
       "  <thead>\n",
       "    <tr style=\"text-align: right;\">\n",
       "      <th></th>\n",
       "      <th>Coefficients</th>\n",
       "    </tr>\n",
       "  </thead>\n",
       "  <tbody>\n",
       "    <tr>\n",
       "      <th>comment_count</th>\n",
       "      <td>5.221465</td>\n",
       "    </tr>\n",
       "    <tr>\n",
       "      <th>views</th>\n",
       "      <td>0.010292</td>\n",
       "    </tr>\n",
       "    <tr>\n",
       "      <th>dislikes</th>\n",
       "      <td>-2.206645</td>\n",
       "    </tr>\n",
       "    <tr>\n",
       "      <th>category_id</th>\n",
       "      <td>-2126.811573</td>\n",
       "    </tr>\n",
       "    <tr>\n",
       "      <th>trending_month</th>\n",
       "      <td>-25.218058</td>\n",
       "    </tr>\n",
       "  </tbody>\n",
       "</table>\n",
       "</div>"
      ],
      "text/plain": [
       "                Coefficients\n",
       "comment_count       5.221465\n",
       "views               0.010292\n",
       "dislikes           -2.206645\n",
       "category_id     -2126.811573\n",
       "trending_month    -25.218058"
      ]
     },
     "execution_count": 34,
     "metadata": {},
     "output_type": "execute_result"
    }
   ],
   "source": [
    "cdf"
   ]
  },
  {
   "cell_type": "markdown",
   "metadata": {},
   "source": [
    "Now once we have fit the model, we can apply it to the new data (test data) to make predictions and we will draw a line of best. "
   ]
  },
  {
   "cell_type": "code",
   "execution_count": 35,
   "metadata": {},
   "outputs": [],
   "source": [
    "predictions = linreg.predict(X_test)"
   ]
  },
  {
   "cell_type": "code",
   "execution_count": 36,
   "metadata": {},
   "outputs": [
    {
     "data": {
      "image/png": "[encoded data removed]",
      "text/plain": [
       "<Figure size 1080x720 with 1 Axes>"
      ]
     },
     "metadata": {},
     "output_type": "display_data"
    }
   ],
   "source": [
    "plt.figure(figsize=(15,10))\n",
    "g = sns.regplot(y_test, predictions, fit_reg=True)\n",
    "plt.xlabel('Y Test (Actual)')\n",
    "plt.ylabel('Predictions')\n",
    "g.set(xlim=(-100000, 5000000),ylim=(-100000, 5000000))\n",
    "plt.show(g)"
   ]
  },
  {
   "cell_type": "markdown",
   "metadata": {},
   "source": [
    "residual = observed value - predicted value. \n",
    "We will plot the residual values. Positive values for the residuals(y-axis) means the predication was too low and the negative residual values means the prediction was too high"
   ]
  },
  {
   "cell_type": "code",
   "execution_count": 37,
   "metadata": {},
   "outputs": [
    {
     "name": "stdout",
     "output_type": "stream",
     "text": [
      "3943      -3240.790539\n",
      "27790   -186543.635180\n",
      "2445      18675.893484\n",
      "3555     -81503.898189\n",
      "10950    -11700.185425\n",
      "23810    -10959.119450\n",
      "14877    -27004.731098\n",
      "15003      6525.579798\n",
      "35753    -57484.245801\n",
      "7157     -20446.261850\n",
      "10477    -37586.728409\n",
      "29497     -3849.433624\n",
      "25806    -15520.850566\n",
      "33925     55433.352648\n",
      "37471     -8191.326513\n",
      "14748     18369.247392\n",
      "1476      13737.689233\n",
      "29699     26168.347608\n",
      "20386     -3773.555078\n",
      "23717    -28086.568998\n",
      "30608     68477.090006\n",
      "2095      25073.236189\n",
      "35088     -4703.344973\n",
      "29384    125812.024220\n",
      "16406     35162.567913\n",
      "15405    -35259.786792\n",
      "6953     -34356.261478\n",
      "1753      25112.285893\n",
      "9080      59438.880132\n",
      "16275     -4356.678623\n",
      "             ...      \n",
      "19843    -36199.549647\n",
      "2743      13942.768163\n",
      "27266    711667.938888\n",
      "22408    -13065.781318\n",
      "26272    -28152.354092\n",
      "36641     29888.814662\n",
      "7580      -7998.732361\n",
      "4262     -23976.967535\n",
      "748      -35347.150935\n",
      "21965    -14260.823049\n",
      "14254    -37026.999224\n",
      "22717    -14114.215408\n",
      "35712    -20471.945879\n",
      "34481     40194.070440\n",
      "36816    -23137.876797\n",
      "7083     -30438.452429\n",
      "31230    -20919.493077\n",
      "2305     -37533.282649\n",
      "6542      -9268.336254\n",
      "23040      6748.354448\n",
      "20531    -57591.023119\n",
      "9409     -11453.571840\n",
      "35633      2352.230330\n",
      "36494     -8746.444934\n",
      "32099    -33011.747562\n",
      "32240    -33835.917286\n",
      "21736      7777.084184\n",
      "28926    -25278.864867\n",
      "30788    -29898.332539\n",
      "15763     -8389.410358\n",
      "Name: likes, Length: 11573, dtype: float64\n"
     ]
    }
   ],
   "source": [
    "residuals = (y_test - predictions)\n",
    "print(residuals)"
   ]
  },
  {
   "cell_type": "code",
   "execution_count": 38,
   "metadata": {},
   "outputs": [
    {
     "data": {
      "text/plain": [
       "<matplotlib.axes._subplots.AxesSubplot at 0x1d614dc60f0>"
      ]
     },
     "execution_count": 38,
     "metadata": {},
     "output_type": "execute_result"
    },
    {
     "data": {
      "image/png": "[encoded data removed]",
      "text/plain": [
       "<Figure size 1080x720 with 1 Axes>"
      ]
     },
     "metadata": {},
     "output_type": "display_data"
    }
   ],
   "source": [
    "plt.figure(figsize=(15,10))\n",
    "sns.regplot(x=predictions, y=residuals, fit_reg=True)"
   ]
  },
  {
   "cell_type": "markdown",
   "metadata": {},
   "source": [
    "Here we are going to calculate r^2 value. This value indicates the percentage of the variance in the dependent variable that the independent variables explain collectively. So for our model, the % of views that are dependent on the features \"X\" ( likes, views, comment_count) with the scale being from 0-100%. \n",
    "\n",
    "A higher r^2 value means that there are smaller differences between the observed data and the fitted values (Generally, not always true though)"
   ]
  },
  {
   "cell_type": "code",
   "execution_count": 39,
   "metadata": {},
   "outputs": [],
   "source": [
    "from sklearn import metrics "
   ]
  },
  {
   "cell_type": "code",
   "execution_count": 40,
   "metadata": {},
   "outputs": [
    {
     "data": {
      "text/plain": [
       "0.8400046666725429"
      ]
     },
     "execution_count": 40,
     "metadata": {},
     "output_type": "execute_result"
    }
   ],
   "source": [
    "linreg.score(X_test, y_test)"
   ]
  },
  {
   "cell_type": "code",
   "execution_count": 41,
   "metadata": {},
   "outputs": [
    {
     "name": "stdout",
     "output_type": "stream",
     "text": [
      "MAE : 51553.662574385664\n",
      "MSE : 18078276210.43611\n",
      "RMSE : 134455.48040312863\n"
     ]
    }
   ],
   "source": [
    "print('MAE :', metrics.mean_absolute_error(y_test,predictions))"
   ]
  },
  {
   "cell_type": "markdown",
   "metadata": {},
   "source": [
    "Looking at the MAE score, this is way off the baseline. So maybe a linear regression model is not the most suitable. "
   ]
  },
  {
   "cell_type": "code",
   "execution_count": 42,
   "metadata": {},
   "outputs": [
    {
     "name": "stdout",
     "output_type": "stream",
     "text": [
      "       True Labels  Predicted Labels\n",
      "0              NaN           55681.0\n",
      "1              NaN           25561.0\n",
      "2              NaN          787420.0\n",
      "3              NaN             193.0\n",
      "4             30.0               NaN\n",
      "5              NaN           52708.0\n",
      "6        1634124.0               NaN\n",
      "7          57309.0               NaN\n",
      "8              NaN            2163.0\n",
      "9              NaN          190084.0\n",
      "10             NaN            9591.0\n",
      "11             NaN            1746.0\n",
      "12             NaN           37986.0\n",
      "13             NaN            8133.0\n",
      "14             NaN           98804.0\n",
      "15             NaN           12553.0\n",
      "16             NaN           22326.0\n",
      "17        286269.0               NaN\n",
      "18        202676.0               NaN\n",
      "19             NaN           72593.0\n",
      "20             NaN           10028.0\n",
      "21             NaN          263918.0\n",
      "22        207262.0               NaN\n",
      "23             NaN           25115.0\n",
      "24          4577.0               NaN\n",
      "25             NaN           52829.0\n",
      "26             NaN             629.0\n",
      "27             NaN            5029.0\n",
      "28             NaN          307435.0\n",
      "29             NaN             399.0\n",
      "...            ...               ...\n",
      "38885      47639.0               NaN\n",
      "38886          NaN           16441.0\n",
      "38887          NaN            7135.0\n",
      "38888          NaN            4531.0\n",
      "38889          NaN           10835.0\n",
      "38890          NaN          118892.0\n",
      "38891      78634.0               NaN\n",
      "38892          NaN          296411.0\n",
      "38893     334549.0               NaN\n",
      "38894      83723.0               NaN\n",
      "38895          NaN          270682.0\n",
      "38896          NaN          365952.0\n",
      "38897      35953.0               NaN\n",
      "38898          NaN           60804.0\n",
      "38899          NaN          120105.0\n",
      "38901      50144.0               NaN\n",
      "38902          NaN          437224.0\n",
      "38903          NaN           47122.0\n",
      "38904          NaN          234355.0\n",
      "38905          NaN          370027.0\n",
      "38906          NaN           79766.0\n",
      "38907      93096.0               NaN\n",
      "38908      26126.0               NaN\n",
      "38909      75335.0               NaN\n",
      "38910          NaN          169578.0\n",
      "38911          NaN          268088.0\n",
      "38912          NaN           61998.0\n",
      "38913          NaN          394830.0\n",
      "38914     151870.0               NaN\n",
      "38915      18271.0               NaN\n",
      "\n",
      "[38575 rows x 2 columns]\n"
     ]
    }
   ],
   "source": [
    "# why do they have nan values? I believe that this has a massive impact on the MAE score\n",
    "\n",
    "d1 = {'True Labels' : y_test, 'Predicted Labels' : y_train}\n",
    "labels = pd.DataFrame(data = d1)\n",
    "print(labels)"
   ]
  },
  {
   "cell_type": "markdown",
   "metadata": {},
   "source": [
    "## Using a Random Forest "
   ]
  },
  {
   "cell_type": "code",
   "execution_count": 43,
   "metadata": {},
   "outputs": [
    {
     "name": "stdout",
     "output_type": "stream",
     "text": [
      "MAE : 10709.87601850366\n"
     ]
    }
   ],
   "source": [
    "# Understand why model has much lower score compared to linear regression model \n",
    "# estimators are small decision trees which each produce their own predictions, generally the higher number \n",
    "# of trees the better to learn the data. However, adding loads of trees can slow down training process. \n",
    "# The random forest's ensemble design allows the random forest to \n",
    "# generalize well to unseen data, including data with missing values. Random forests are also good \n",
    "# at handling large datasets with high dimensionality and heterogeneous feature types (for example, \n",
    "# if one column is categorical and another is numerical).--> Believe thats why it performs much better.(numerical->Likes, categorical->Categorys alongside other data like views(numerical))\n",
    "# However in contrast to linear regression, a random forest regressor is unable to make predictions outside range of its training data. \n",
    "\n",
    "from sklearn.ensemble import RandomForestRegressor \n",
    "\n",
    "model = RandomForestRegressor(n_estimators=200, max_depth = 40)\n",
    "model.fit(X_train, y_train)\n",
    "\n",
    "y_pred = model.predict(X_test)\n",
    "\n",
    "print('MAE :', metrics.mean_absolute_error(y_test, y_pred))"
   ]
  },
  {
   "cell_type": "markdown",
   "metadata": {},
   "source": [
    "Here the MAE for the Random Forest model is considerably lower compared to the MAE for the Linear Regression model. Also looking at the graph of the Random Forest Model, there are very few outliers compared to the linear regression model. This lies within the basline region of the MAE score.Thus this model is better suited for our task of predicting how many likes a youtube video will get. "
   ]
  },
  {
   "cell_type": "code",
   "execution_count": 44,
   "metadata": {},
   "outputs": [
    {
     "data": {
      "image/png": "[encoded data removed]",
      "text/plain": [
       "<Figure size 1080x720 with 1 Axes>"
      ]
     },
     "metadata": {},
     "output_type": "display_data"
    }
   ],
   "source": [
    "plt.figure(figsize=(15,10))\n",
    "g = sns.regplot(y_test, y_pred, fit_reg=True)\n",
    "plt.xlabel('Y Test (Actual)')\n",
    "plt.ylabel('Predictions')\n",
    "g.set(xlim=(-100000, 5000000),ylim=(-100000, 5000000))\n",
    "plt.show(g)"
   ]
  },
  {
   "cell_type": "code",
   "execution_count": 45,
   "metadata": {},
   "outputs": [
    {
     "name": "stdout",
     "output_type": "stream",
     "text": [
      "       True Labels  Predicted Labels\n",
      "3943         57204         56138.880\n",
      "27790       379718        375043.590\n",
      "2445         45182         36098.865\n",
      "3555         25227         42749.575\n",
      "10950         4078          5574.275\n",
      "23810         1901          3222.230\n",
      "14877         1064          1203.090\n",
      "15003        81676         93619.915\n",
      "35753         3661          4333.700\n",
      "7157          4419          4471.695\n",
      "10477         7670          7651.995\n",
      "29497       130926        138446.340\n",
      "25806         7269          7184.505\n",
      "33925       233025        249519.765\n",
      "37471         2752          3194.490\n",
      "14748         8826         15512.975\n",
      "1476         36683         34149.330\n",
      "29699       399664        406017.245\n",
      "20386         6398          8305.355\n",
      "23717        59989         61019.220\n",
      "30608       188950        187598.955\n",
      "2095         37831         37096.115\n",
      "35088        18060         21233.545\n",
      "29384       817732        772258.465\n",
      "16406        91619         62472.410\n",
      "15405        36138         35400.640\n",
      "6953         85270         86688.725\n",
      "1753         78549         77791.670\n",
      "9080        313222        330988.020\n",
      "16275        43049         42226.355\n",
      "...            ...               ...\n",
      "19843         7596          8646.665\n",
      "2743         37509         35036.785\n",
      "27266      1286819       1280975.755\n",
      "22408        46510         42112.925\n",
      "26272        27109         27421.650\n",
      "36641       138886        110229.840\n",
      "7580          1931          1915.000\n",
      "4262         41852         57909.525\n",
      "748          10232         12124.105\n",
      "21965        23919         23750.180\n",
      "14254         1859          1978.020\n",
      "22717       111934        133116.405\n",
      "35712       165474        166158.290\n",
      "34481       146199        133372.590\n",
      "36816        31596         31668.010\n",
      "7083         12662          8035.970\n",
      "31230         2299          2373.965\n",
      "2305           833           848.235\n",
      "6542           858           879.635\n",
      "23040        20928         20235.490\n",
      "20531       183558        185060.145\n",
      "9409          2601          2187.225\n",
      "35633        69133         67661.375\n",
      "36494        29094         29537.370\n",
      "32099        48344         74551.510\n",
      "32240        39324         38482.920\n",
      "21736        22766         22579.685\n",
      "28926        65477         73417.800\n",
      "30788        37726         38528.620\n",
      "15763         1471          1497.545\n",
      "\n",
      "[11573 rows x 2 columns]\n"
     ]
    }
   ],
   "source": [
    "d2 = {'True Labels' : y_test, 'Predicted Labels' : y_pred}\n",
    "labels_1 = pd.DataFrame(data = d2)\n",
    "print(labels_1)\n",
    "\n",
    "# Queston why there are no nan values compared to linear regression model and some graph analysis as to why it performed way better"
   ]
  },
  {
   "cell_type": "code",
   "execution_count": null,
   "metadata": {},
   "outputs": [],
   "source": []
  },
  {
   "cell_type": "code",
   "execution_count": null,
   "metadata": {},
   "outputs": [],
   "source": []
  }
 ],
 "metadata": {
  "kernelspec": {
   "display_name": "Python 3",
   "language": "python",
   "name": "python3"
  },
  "language_info": {
   "codemirror_mode": {
    "name": "ipython",
    "version": 3
   },
   "file_extension": ".py",
   "mimetype": "text/x-python",
   "name": "python",
   "nbconvert_exporter": "python",
   "pygments_lexer": "ipython3",
   "version": "3.6.5"
  }
 },
 "nbformat": 4,
 "nbformat_minor": 2
}
