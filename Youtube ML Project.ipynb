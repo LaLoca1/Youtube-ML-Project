{
 "cells": [
  {
   "cell_type": "markdown",
   "metadata": {},
   "source": [
    "# Trending UK Youtube Video Analysis "
   ]
  },
  {
   "cell_type": "markdown",
   "metadata": {},
   "source": [
    "We are going to find out the group the common factors of a youtube video and predict the chances of it becoming trending (use ml here)"
   ]
  },
  {
   "cell_type": "markdown",
   "metadata": {},
   "source": [
    "### Key Analysis points"
   ]
  },
  {
   "cell_type": "markdown",
   "metadata": {},
   "source": [
    "#### Factors to consider"
   ]
  },
  {
   "cell_type": "markdown",
   "metadata": {},
   "source": [
    "- How many views for the trending videos have. Do most of them have a large number of views and is having a large number of views required for a video to become trending. Does the same concept apply to likes, comments? \n",
    "- Do views, likes, dislikes, comment count, title length and other factors all relate to each other and how do they all link?"
   ]
  },
  {
   "cell_type": "markdown",
   "metadata": {},
   "source": [
    "## Import Packages"
   ]
  },
  {
   "cell_type": "markdown",
   "metadata": {},
   "source": [
    "Here we import some packages that are going to help us analyze data. "
   ]
  },
  {
   "cell_type": "code",
   "execution_count": 1,
   "metadata": {},
   "outputs": [],
   "source": [
    "import pandas as pd\n",
    "import numpy as np  \n",
    "import matplotlib.pyplot as plt\n",
    "import seaborn as sns \n",
    "import datetime \n",
    "import json "
   ]
  },
  {
   "cell_type": "markdown",
   "metadata": {},
   "source": [
    "### Reading the dataset"
   ]
  },
  {
   "cell_type": "code",
   "execution_count": 2,
   "metadata": {},
   "outputs": [],
   "source": [
    "df = pd.read_csv(\"/Users/Alex/Youtube Dataset/GBvideos.csv\")"
   ]
  },
  {
   "cell_type": "code",
   "execution_count": null,
   "metadata": {},
   "outputs": [],
   "source": [
    "df.head()"
   ]
  },
  {
   "cell_type": "code",
   "execution_count": null,
   "metadata": {},
   "outputs": [],
   "source": [
    "df.info()"
   ]
  },
  {
   "cell_type": "code",
   "execution_count": null,
   "metadata": {},
   "outputs": [],
   "source": [
    "cols_with_missing_values = [col for col in df.columns\n",
    "                    if df[col].isnull().any()]\n",
    "\n",
    "print(cols_with_missing_values)"
   ]
  },
  {
   "cell_type": "markdown",
   "metadata": {},
   "source": [
    "From here we can see that there 38,916 entries in this dataset. All the columns have no null values apart from the description column (This has some null values since ot only has 38304 non-null values instead of 38,916) "
   ]
  },
  {
   "cell_type": "markdown",
   "metadata": {},
   "source": [
    "### Data Cleaning"
   ]
  },
  {
   "cell_type": "markdown",
   "metadata": {},
   "source": [
    "As the description column has some null values. Here we view the rows whose description values are null (null values are denoted by NaN)"
   ]
  },
  {
   "cell_type": "code",
   "execution_count": null,
   "metadata": {},
   "outputs": [],
   "source": [
    "df[pd.isnull(df.description)].head()"
   ]
  },
  {
   "cell_type": "markdown",
   "metadata": {},
   "source": [
    "Now we need to some data cleaning and get rid off the null values, we can replace the null values with an empty string in the description column. "
   ]
  },
  {
   "cell_type": "code",
   "execution_count": 3,
   "metadata": {},
   "outputs": [],
   "source": [
    "df[\"description\"] = df[\"description\"].fillna(value=\"\")"
   ]
  },
  {
   "cell_type": "markdown",
   "metadata": {},
   "source": [
    "## Dataset Collection Years "
   ]
  },
  {
   "cell_type": "code",
   "execution_count": null,
   "metadata": {},
   "outputs": [],
   "source": [
    "df[\"trending_date\"].apply(lambda x: '20' + x[:2]).value_counts(normalize=True)"
   ]
  },
  {
   "cell_type": "code",
   "execution_count": null,
   "metadata": {},
   "outputs": [],
   "source": [
    "cdf = df[\"trending_date\"].apply(lambda x: '20' + x[:2]).value_counts() \\\n",
    "            .to_frame().reset_index() \\\n",
    "            .rename(columns={\"index\": \"year\", \"trending_date\": \"No_of_videos\"})\n",
    "\n",
    "fig, ax = plt.subplots()\n",
    "_ = sns.barplot(x=\"year\", y=\"No_of_videos\", data=cdf, ax=ax)\n",
    "_ = ax.set(xlabel=\"Year\", ylabel=\"No. of videos\")"
   ]
  },
  {
   "cell_type": "markdown",
   "metadata": {},
   "source": [
    "We notice that there were more trending videos during 2018 compared to 2017. Since we didn't have a specific column for the year of the trending video, I had to make a few adjustments to get the year of the trending rather than just the date. "
   ]
  },
  {
   "cell_type": "markdown",
   "metadata": {},
   "source": [
    "## Stats of numerical columns "
   ]
  },
  {
   "cell_type": "markdown",
   "metadata": {},
   "source": [
    "Here we look at the statistical information about the numerical columns of the dataset"
   ]
  },
  {
   "cell_type": "code",
   "execution_count": null,
   "metadata": {},
   "outputs": [],
   "source": [
    "df.describe()"
   ]
  },
  {
   "cell_type": "markdown",
   "metadata": {},
   "source": [
    "## Views Histogram"
   ]
  },
  {
   "cell_type": "code",
   "execution_count": null,
   "metadata": {},
   "outputs": [],
   "source": [
    "fig = sns.distplot(df[\"views\"], kde=False, bins=np.linspace(0,2.3e8, 47))\n",
    "plt.xlabel(\"Views\")\n",
    "plt.ylabel(\"Number of videos\")\n",
    "plt.show(fig)"
   ]
  },
  {
   "cell_type": "markdown",
   "metadata": {},
   "source": [
    "Looking at the histogram, most of the trending videos have 5 million views or less. ( 0.1x10^8/2 = 5x10^6) "
   ]
  },
  {
   "cell_type": "code",
   "execution_count": null,
   "metadata": {},
   "outputs": [],
   "source": [
    "fig = sns.distplot(df[df[\"views\"] < 5000000][\"views\"], kde=False) \n",
    "plt.xlabel(\"Likes\")\n",
    "plt.ylabel(\"Number of Videos\")\n",
    "plt.show(fig)"
   ]
  },
  {
   "cell_type": "markdown",
   "metadata": {},
   "source": [
    "Here we can see that the majority of videos have 1 million views or less. We will look at the percentage of videos less than 1 million views. "
   ]
  },
  {
   "cell_type": "code",
   "execution_count": null,
   "metadata": {},
   "outputs": [],
   "source": [
    "df[df['views'] < 1e6]['views'].count() / df['views'].count() * 100 "
   ]
  },
  {
   "cell_type": "code",
   "execution_count": null,
   "metadata": {},
   "outputs": [],
   "source": [
    "df[df['views'] < 2e6]['views'].count() / df['views'].count() * 100"
   ]
  },
  {
   "cell_type": "code",
   "execution_count": null,
   "metadata": {},
   "outputs": [],
   "source": [
    "df[df['views'] < 3e6]['views'].count() / df['views'].count() * 100"
   ]
  },
  {
   "cell_type": "markdown",
   "metadata": {},
   "source": [
    "So around 50% of videos have less than 1 million views, around 64% of videos have less than 2 million views and around 71% of videos have less than 3 million views. "
   ]
  },
  {
   "cell_type": "markdown",
   "metadata": {},
   "source": [
    "## Likes Histogram"
   ]
  },
  {
   "cell_type": "markdown",
   "metadata": {},
   "source": [
    "Here we plot the histogram for the likes column"
   ]
  },
  {
   "cell_type": "code",
   "execution_count": null,
   "metadata": {},
   "outputs": [],
   "source": [
    "fig = sns.distplot(df[\"likes\"], kde=False) \n",
    "plt.xlabel(\"Likes\")\n",
    "plt.ylabel(\"Number of videos\")\n",
    "plt.show(fig)"
   ]
  },
  {
   "cell_type": "markdown",
   "metadata": {},
   "source": [
    "Looking at the histogram, most of the trending videos have between 0 to 200,000 likes. We will plot a histogram between 0 to 100,000 likes. "
   ]
  },
  {
   "cell_type": "code",
   "execution_count": null,
   "metadata": {},
   "outputs": [],
   "source": [
    "fig = sns.distplot(df[df[\"likes\"] < 100000][\"likes\"], kde=False) \n",
    "plt.xlabel(\"Likes\")\n",
    "plt.ylabel(\"Number of Videos\")\n",
    "plt.show(fig)"
   ]
  },
  {
   "cell_type": "markdown",
   "metadata": {},
   "source": [
    "From this histogram, most of the trending videos have approximately 30,000/40,000 or less likes with the peak being videos with around 2000 likes or less. Now, we will calculate the percentage of videos with less than 30,000/40,000 likes"
   ]
  },
  {
   "cell_type": "code",
   "execution_count": null,
   "metadata": {},
   "outputs": [],
   "source": [
    "df[df['likes'] < 30000]['likes'].count() / df['likes'].count() * 100"
   ]
  },
  {
   "cell_type": "code",
   "execution_count": null,
   "metadata": {},
   "outputs": [],
   "source": [
    "df[df['likes'] < 40000]['likes'].count() / df['likes'].count() * 100"
   ]
  },
  {
   "cell_type": "markdown",
   "metadata": {},
   "source": [
    "So here the percentage of videos with less than 30,000 likes is around 53% and the percentage of videos with less than 40,000 likes is around 58%"
   ]
  },
  {
   "cell_type": "markdown",
   "metadata": {},
   "source": [
    "## Dislikes Histogram"
   ]
  },
  {
   "cell_type": "code",
   "execution_count": null,
   "metadata": {},
   "outputs": [],
   "source": [
    "fig = sns.distplot(df[\"dislikes\"], kde=False, bins=np.linspace(0,500000)) \n",
    "plt.xlabel(\"Disikes\")\n",
    "plt.ylabel(\"Number of videos\")\n",
    "plt.show(fig)"
   ]
  },
  {
   "cell_type": "code",
   "execution_count": null,
   "metadata": {},
   "outputs": [],
   "source": [
    "fig = sns.distplot(df[df[\"dislikes\"] < 10000][\"dislikes\"], kde=False) \n",
    "plt.xlabel(\"Dislikes\")\n",
    "plt.ylabel(\"Number of Videos\")\n",
    "plt.show(fig)"
   ]
  },
  {
   "cell_type": "code",
   "execution_count": null,
   "metadata": {},
   "outputs": [],
   "source": [
    "df[df['dislikes'] < 2000]['dislikes'].count() / df['dislikes'].count() * 100"
   ]
  },
  {
   "cell_type": "code",
   "execution_count": null,
   "metadata": {},
   "outputs": [],
   "source": [
    "df[df['dislikes'] < 1000]['dislikes'].count() / df['dislikes'].count() * 100"
   ]
  },
  {
   "cell_type": "markdown",
   "metadata": {},
   "source": [
    "So here the percentage of videos with less than 2000 dislikes is around 66% and the percentage of videos with less than 40,000 likes is around 53%. "
   ]
  },
  {
   "cell_type": "markdown",
   "metadata": {},
   "source": [
    "## Comment count histogram"
   ]
  },
  {
   "cell_type": "code",
   "execution_count": null,
   "metadata": {},
   "outputs": [],
   "source": [
    "fig = sns.distplot(df[\"comment_count\"], kde=False, bins=np.linspace(0, 400000))\n",
    "plt.xlabel(\"Comment Count\")\n",
    "plt.ylabel(\"Number of videos\")\n",
    "plt.show(fig)"
   ]
  },
  {
   "cell_type": "code",
   "execution_count": null,
   "metadata": {},
   "outputs": [],
   "source": [
    "fig = sns.distplot(df[df[\"comment_count\"] < 50000][\"comment_count\"], kde=False)\n",
    "plt.xlabel(\"Comment Count\") \n",
    "plt.ylabel(\"Number of videos\")\n",
    "plt.show(fig)"
   ]
  },
  {
   "cell_type": "code",
   "execution_count": null,
   "metadata": {},
   "outputs": [],
   "source": [
    "df[df[\"comment_count\"] < 20000][\"comment_count\"].count() / df[\"comment_count\"].count() * 100"
   ]
  },
  {
   "cell_type": "code",
   "execution_count": null,
   "metadata": {},
   "outputs": [],
   "source": [
    "df[df[\"comment_count\"] < 10000][\"comment_count\"].count() / df[\"comment_count\"].count() * 100"
   ]
  },
  {
   "cell_type": "markdown",
   "metadata": {},
   "source": [
    "So here the percentage of videos with less than 20,000 comments is around 86% and the percentage of videos with less than 10,000 likes is around 76%. "
   ]
  },
  {
   "cell_type": "markdown",
   "metadata": {},
   "source": [
    "## Calculating the Correlation between attributes"
   ]
  },
  {
   "cell_type": "markdown",
   "metadata": {},
   "source": [
    "### 1st Chart: Likes & Views"
   ]
  },
  {
   "cell_type": "code",
   "execution_count": null,
   "metadata": {},
   "outputs": [],
   "source": [
    "sns.set_style('ticks')\n",
    "fig, ax = plt.subplots()\n",
    "fig.set_size_inches(18.5, 10.5)\n",
    "graph = sns.regplot(x=df['likes'], y=df['views'], data=df, ax=ax) \n",
    "graph.set_title('Correlation of Likes and Views')\n",
    "sns.despine()"
   ]
  },
  {
   "cell_type": "markdown",
   "metadata": {},
   "source": [
    "Looking at the graph, the correlation of the graph is positive, so generally, as the views increases, so do the likes. However, the majority of trending videos have likes under 1 million"
   ]
  },
  {
   "cell_type": "markdown",
   "metadata": {},
   "source": [
    "### 2nd Chart: Likes & Comment Count"
   ]
  },
  {
   "cell_type": "code",
   "execution_count": null,
   "metadata": {},
   "outputs": [],
   "source": [
    "sns.set_style('ticks')\n",
    "fig, ax = plt.subplots()\n",
    "fig.set_size_inches(18.5, 10.5)\n",
    "graph1 = sns.regplot(x=df['likes'], y=df['comment_count'], data=df, ax=ax) \n",
    "graph1.set_title('Correlation of Likes and Comment count')\n",
    "sns.despine()"
   ]
  },
  {
   "cell_type": "markdown",
   "metadata": {},
   "source": [
    "Looking at the graph, the correlation of the graph is positive, so generally, as the views increases, so does the comment count."
   ]
  },
  {
   "cell_type": "markdown",
   "metadata": {},
   "source": [
    "### 3rd Chart: Dislikes & Comment Count"
   ]
  },
  {
   "cell_type": "code",
   "execution_count": null,
   "metadata": {},
   "outputs": [],
   "source": [
    "sns.set_style('ticks')\n",
    "fig, ax = plt.subplots()\n",
    "fig.set_size_inches(18.5, 10.5)\n",
    "graph2 = sns.regplot(x=df['dislikes'], y=df['comment_count'], data=df, ax=ax) \n",
    "graph2.set_title('Correlation of Disikes and Comment count')\n",
    "sns.despine()"
   ]
  },
  {
   "cell_type": "markdown",
   "metadata": {},
   "source": [
    "Looking at the graph, the correlation of the graph is positive, so as the comment count increases, so does the dislikes count. However, there is only a small minority of videos that have dislikes above 250000. "
   ]
  },
  {
   "cell_type": "markdown",
   "metadata": {},
   "source": [
    "### 4th Chart: Likes & Dislikes"
   ]
  },
  {
   "cell_type": "code",
   "execution_count": null,
   "metadata": {},
   "outputs": [],
   "source": [
    "sns.set_style('ticks')\n",
    "fig, ax = plt.subplots()\n",
    "fig.set_size_inches(18.5, 10.5)\n",
    "graph3 = sns.regplot(x=df['likes'], y=df['dislikes'], data=df, ax=ax) \n",
    "graph3.set_title('Correlation of Likes and dislikes')\n",
    "sns.despine()"
   ]
  },
  {
   "cell_type": "markdown",
   "metadata": {},
   "source": [
    "Looking at the graph, the correlation of the graph is positive, so as the likes increases, so does the dislikes count. However, the likes count of a video is most likely to be much higher than its dislikes count."
   ]
  },
  {
   "cell_type": "markdown",
   "metadata": {},
   "source": [
    "## Predicting the amount of likes for a video"
   ]
  },
  {
   "cell_type": "markdown",
   "metadata": {},
   "source": [
    "Here we are going to create a Logistic Regression Model. First we will try and pick out the most useful parameters to predict how many likes a video will get. So the parameters I will be picking are the comments, views, dislikes and category_id"
   ]
  },
  {
   "cell_type": "code",
   "execution_count": null,
   "metadata": {},
   "outputs": [],
   "source": [
    "df.columns"
   ]
  },
  {
   "cell_type": "code",
   "execution_count": null,
   "metadata": {},
   "outputs": [],
   "source": [
    "df.head()"
   ]
  },
  {
   "cell_type": "code",
   "execution_count": null,
   "metadata": {},
   "outputs": [],
   "source": [
    "df.describe()"
   ]
  },
  {
   "cell_type": "code",
   "execution_count": 4,
   "metadata": {},
   "outputs": [],
   "source": [
    "x = df[[\"comment_count\",\"views\",\"dislikes\",\"category_id\"]]\n",
    "y = df[\"likes\"]\n",
    "y1 = df[[\"likes\"]]"
   ]
  },
  {
   "cell_type": "markdown",
   "metadata": {},
   "source": [
    "But just before we fit the model, I want to look at the distribution of the parameter. "
   ]
  },
  {
   "cell_type": "code",
   "execution_count": null,
   "metadata": {},
   "outputs": [],
   "source": [
    "f, ax = plt.subplots(2,2, figsize=(20,15))\n",
    "\n",
    "g = sns.distplot(df['likes'],ax=ax[0][0])\n",
    "\n",
    "g1 = sns.distplot(df['dislikes'],ax=ax[0][1])\n",
    "\n",
    "g2 = sns.distplot(df['comment_count'],ax=ax[1][0])\n",
    "\n",
    "g3 = sns.distplot(df['views'],ax=ax[1][1])"
   ]
  },
  {
   "cell_type": "markdown",
   "metadata": {},
   "source": [
    "But looking at the data for each parameter, the data is very skewed and unbalanced which can lead to biases during the predictions. So we want to make this balanced."
   ]
  },
  {
   "cell_type": "markdown",
   "metadata": {},
   "source": [
    "### Prior Data Cleaning Before Transforming Graphs"
   ]
  },
  {
   "cell_type": "markdown",
   "metadata": {},
   "source": [
    "As the dislikes, comment counts and likes parameters contain infinite values or negative (we removed the NaN values earlier), we have to replace this before log transforming the values as otherwise, we would run into an error. So we just converted the values to 1. "
   ]
  },
  {
   "cell_type": "code",
   "execution_count": 5,
   "metadata": {},
   "outputs": [],
   "source": [
    "replaced = x.replace([np.inf, np.NaN, -1, 0], 1)\n",
    "replaced1 = y1.replace([np.inf, np.NaN, -1, 0], 1)"
   ]
  },
  {
   "cell_type": "code",
   "execution_count": null,
   "metadata": {},
   "outputs": [],
   "source": [
    "f, ax = plt.subplots(2,2, figsize=(20,15))\n",
    "\n",
    "df[\"views_log\"] = np.log(df[\"views\"])\n",
    "g = sns.distplot(df['views_log'],ax=ax[0][0])\n",
    "\n",
    "g1 =sns.distplot(np.log(replaced.dislikes),ax=ax[0][1])\n",
    "\n",
    "g2 =sns.distplot(np.log(replaced.comment_count),ax=ax[1][0])\n",
    "\n",
    "g3 = sns.distplot(np.log(replaced1.likes), ax=ax[1][1])"
   ]
  },
  {
   "cell_type": "markdown",
   "metadata": {},
   "source": [
    "By log transforming each parameter, we were able to create a bell shaped curve meaning the data is more balanced now. "
   ]
  },
  {
   "cell_type": "markdown",
   "metadata": {},
   "source": [
    "### Creating a Linear Regression Model "
   ]
  },
  {
   "cell_type": "markdown",
   "metadata": {},
   "source": [
    "Before creating the model, we have to split the data we are testing first into 2 categories: a training set and a test set. I allocated 30% of the data into the test data and 70% to the training set. "
   ]
  },
  {
   "cell_type": "code",
   "execution_count": 6,
   "metadata": {},
   "outputs": [],
   "source": [
    "from sklearn.model_selection import train_test_split\n",
    "X_train, X_test, y_train, y_test = train_test_split(x, y, test_size=0.3, random_state=0)"
   ]
  },
  {
   "cell_type": "markdown",
   "metadata": {},
   "source": [
    "Here we fit the Linear Regression model with the training data"
   ]
  },
  {
   "cell_type": "code",
   "execution_count": 50,
   "metadata": {},
   "outputs": [],
   "source": [
    "from sklearn.linear_model import LinearRegression\n",
    "linreg = LinearRegression()\n",
    "model_fit = linreg.fit(X_train, y_train)"
   ]
  },
  {
   "cell_type": "code",
   "execution_count": 9,
   "metadata": {},
   "outputs": [
    {
     "name": "stdout",
     "output_type": "stream",
     "text": [
      "56760.64603363651\n"
     ]
    }
   ],
   "source": [
    "print(linreg.intercept_)"
   ]
  },
  {
   "cell_type": "markdown",
   "metadata": {},
   "source": [
    "Here a one unit increase in the predictor variable (likes) is associated with the change of one coefficient per category (comment_count, views, dislikes and category_id)"
   ]
  },
  {
   "cell_type": "code",
   "execution_count": 11,
   "metadata": {},
   "outputs": [
    {
     "data": {
      "text/plain": [
       "Index(['comment_count', 'views', 'dislikes', 'category_id'], dtype='object')"
      ]
     },
     "execution_count": 11,
     "metadata": {},
     "output_type": "execute_result"
    }
   ],
   "source": [
    "X_train.columns"
   ]
  },
  {
   "cell_type": "code",
   "execution_count": 12,
   "metadata": {},
   "outputs": [],
   "source": [
    "cdf = pd.DataFrame(linreg.coef_, index = X_train.columns,columns=['Coefficients'])"
   ]
  },
  {
   "cell_type": "code",
   "execution_count": 13,
   "metadata": {},
   "outputs": [
    {
     "data": {
      "text/html": [
       "<div>\n",
       "<style scoped>\n",
       "    .dataframe tbody tr th:only-of-type {\n",
       "        vertical-align: middle;\n",
       "    }\n",
       "\n",
       "    .dataframe tbody tr th {\n",
       "        vertical-align: top;\n",
       "    }\n",
       "\n",
       "    .dataframe thead th {\n",
       "        text-align: right;\n",
       "    }\n",
       "</style>\n",
       "<table border=\"1\" class=\"dataframe\">\n",
       "  <thead>\n",
       "    <tr style=\"text-align: right;\">\n",
       "      <th></th>\n",
       "      <th>Coefficients</th>\n",
       "    </tr>\n",
       "  </thead>\n",
       "  <tbody>\n",
       "    <tr>\n",
       "      <th>comment_count</th>\n",
       "      <td>5.049356</td>\n",
       "    </tr>\n",
       "    <tr>\n",
       "      <th>views</th>\n",
       "      <td>0.010759</td>\n",
       "    </tr>\n",
       "    <tr>\n",
       "      <th>dislikes</th>\n",
       "      <td>-2.307013</td>\n",
       "    </tr>\n",
       "    <tr>\n",
       "      <th>category_id</th>\n",
       "      <td>-2042.361231</td>\n",
       "    </tr>\n",
       "  </tbody>\n",
       "</table>\n",
       "</div>"
      ],
      "text/plain": [
       "               Coefficients\n",
       "comment_count      5.049356\n",
       "views              0.010759\n",
       "dislikes          -2.307013\n",
       "category_id    -2042.361231"
      ]
     },
     "execution_count": 13,
     "metadata": {},
     "output_type": "execute_result"
    }
   ],
   "source": [
    "cdf"
   ]
  },
  {
   "cell_type": "markdown",
   "metadata": {},
   "source": [
    "Now once we have fit the model, we can apply it to the new data (test data) to make predictions and we will draw a line of best. "
   ]
  },
  {
   "cell_type": "code",
   "execution_count": 14,
   "metadata": {},
   "outputs": [],
   "source": [
    "predictions = linreg.predict(X_test)"
   ]
  },
  {
   "cell_type": "code",
   "execution_count": 15,
   "metadata": {},
   "outputs": [
    {
     "data": {
      "text/plain": [
       "array([ 15203.52592684,  97296.58902709,  17075.03887525, ...,\n",
       "       688403.46612957,  24832.50344381,  49444.36508961])"
      ]
     },
     "execution_count": 15,
     "metadata": {},
     "output_type": "execute_result"
    }
   ],
   "source": [
    "predictions"
   ]
  },
  {
   "cell_type": "code",
   "execution_count": 17,
   "metadata": {},
   "outputs": [
    {
     "data": {
      "image/png": "[encoded data removed]",
      "text/plain": [
       "<Figure size 1080x720 with 1 Axes>"
      ]
     },
     "metadata": {},
     "output_type": "display_data"
    }
   ],
   "source": [
    "plt.figure(figsize=(15,10))\n",
    "g = sns.regplot(y_test, predictions, fit_reg=True)\n",
    "plt.xlabel('Y Test (Actual)')\n",
    "plt.ylabel('Predictions')\n",
    "g.set(xlim=(-100000, 5000000),ylim=(-100000, 5000000))\n",
    "plt.show(g)"
   ]
  },
  {
   "cell_type": "markdown",
   "metadata": {},
   "source": [
    "residual = observed value - predicted value. \n",
    "We will plot the residual values. Positive values for the residuals(y-axis) means the predication was too low and the negative residual values means the prediction was too high"
   ]
  },
  {
   "cell_type": "code",
   "execution_count": 18,
   "metadata": {},
   "outputs": [
    {
     "name": "stdout",
     "output_type": "stream",
     "text": [
      "15930    -10100.525927\n",
      "34211    -24016.589027\n",
      "16893    -12248.038875\n",
      "8631     -36359.182303\n",
      "4580     412285.197256\n",
      "19266    -36494.988844\n",
      "31806     84264.982847\n",
      "25745    -55584.408937\n",
      "6503     -11305.273371\n",
      "954      -12044.669686\n",
      "1210     -21473.528765\n",
      "34258    456854.037755\n",
      "14674    -36651.501239\n",
      "6819      73904.454519\n",
      "2526      -2949.005112\n",
      "11609     -9969.951282\n",
      "3102      -9793.121090\n",
      "5269     -55424.363580\n",
      "17349    -31524.501369\n",
      "32750    -48124.948911\n",
      "2013      -7158.958914\n",
      "36063      3658.810136\n",
      "15805      9327.592704\n",
      "36854    -35796.356281\n",
      "33945    -18469.413211\n",
      "1026      28413.666884\n",
      "17148    -45602.473120\n",
      "35722     13078.329580\n",
      "25781    -24663.834738\n",
      "10779    -99642.085678\n",
      "             ...      \n",
      "33229    -43447.686430\n",
      "35164     44071.385984\n",
      "23654      1562.000740\n",
      "19467     14314.026793\n",
      "13253     -9698.956343\n",
      "33410       318.682903\n",
      "3324       3677.206088\n",
      "14380    -55069.756951\n",
      "31819     74846.514159\n",
      "27631     -7045.371431\n",
      "9577     -56578.904644\n",
      "32876    -40554.001806\n",
      "1618       4247.954900\n",
      "9236       3450.992525\n",
      "8080     -33036.063793\n",
      "3967      -2753.065606\n",
      "29061    803400.823355\n",
      "28766    -29524.272530\n",
      "34886    217794.279000\n",
      "9011     -15666.380536\n",
      "32228    -10997.951300\n",
      "2213      -3031.821089\n",
      "10447     72455.628566\n",
      "1151     -11246.287337\n",
      "5006     -17508.805272\n",
      "32925    -51839.507563\n",
      "38422     -8958.818548\n",
      "30030   -162319.466130\n",
      "6296     -18244.503444\n",
      "27138      4373.634910\n",
      "Name: likes, Length: 11675, dtype: float64\n"
     ]
    }
   ],
   "source": [
    "residuals = (y_test - predictions)\n",
    "print(residuals)"
   ]
  },
  {
   "cell_type": "code",
   "execution_count": 19,
   "metadata": {},
   "outputs": [
    {
     "data": {
      "text/plain": [
       "<matplotlib.axes._subplots.AxesSubplot at 0x29c1ca2d240>"
      ]
     },
     "execution_count": 19,
     "metadata": {},
     "output_type": "execute_result"
    },
    {
     "data": {
      "image/png": "[encoded data removed]",
      "text/plain": [
       "<Figure size 1080x720 with 1 Axes>"
      ]
     },
     "metadata": {},
     "output_type": "display_data"
    }
   ],
   "source": [
    "plt.figure(figsize=(15,10))\n",
    "sns.regplot(x=predictions, y=residuals, fit_reg=True)"
   ]
  },
  {
   "cell_type": "markdown",
   "metadata": {},
   "source": [
    "Here we are going to calculate r^2 value. This value indicates the percentage of the variance in the dependent variable that the independent variables explain collectively. So for our model, the % of views that are dependent on the features \"X\" ( likes, views, comment_count) with the scale being from 0-100%. \n",
    "\n",
    "A higher r^2 value means that there are smaller differences between the observed data and the fitted values (Generally, not always true though)"
   ]
  },
  {
   "cell_type": "code",
   "execution_count": 20,
   "metadata": {},
   "outputs": [],
   "source": [
    "from sklearn import metrics "
   ]
  },
  {
   "cell_type": "code",
   "execution_count": 21,
   "metadata": {},
   "outputs": [
    {
     "data": {
      "text/plain": [
       "0.8618632835806791"
      ]
     },
     "execution_count": 21,
     "metadata": {},
     "output_type": "execute_result"
    }
   ],
   "source": [
    "linreg.score(X_test, y_test)"
   ]
  },
  {
   "cell_type": "code",
   "execution_count": 22,
   "metadata": {},
   "outputs": [
    {
     "name": "stdout",
     "output_type": "stream",
     "text": [
      "MAE : 53471.03022204708\n",
      "MSE : 17045126524.816933\n",
      "RMSE : 130556.98573732826\n"
     ]
    }
   ],
   "source": [
    "print('MAE :', metrics.mean_absolute_error(y_test,predictions))\n",
    "print('MSE :', metrics.mean_squared_error(y_test, predictions))\n",
    "print('RMSE :', np.sqrt(metrics.mean_squared_error(y_test, predictions)))"
   ]
  },
  {
   "cell_type": "code",
   "execution_count": null,
   "metadata": {},
   "outputs": [],
   "source": []
  }
 ],
 "metadata": {
  "kernelspec": {
   "display_name": "Python 3",
   "language": "python",
   "name": "python3"
  },
  "language_info": {
   "codemirror_mode": {
    "name": "ipython",
    "version": 3
   },
   "file_extension": ".py",
   "mimetype": "text/x-python",
   "name": "python",
   "nbconvert_exporter": "python",
   "pygments_lexer": "ipython3",
   "version": "3.6.5"
  }
 },
 "nbformat": 4,
 "nbformat_minor": 2
}
